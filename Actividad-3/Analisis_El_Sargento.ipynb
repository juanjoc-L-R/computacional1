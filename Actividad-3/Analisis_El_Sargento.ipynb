{
 "cells": [
  {
   "cell_type": "markdown",
   "metadata": {},
   "source": [
    "# Importación de Bibliotecas"
   ]
  },
  {
   "cell_type": "code",
   "execution_count": 3,
   "metadata": {},
   "outputs": [],
   "source": [
    "import pandas as pd\n",
    "import plotly\n",
    "import plotly.plotly as py\n",
    "import plotly.graph_objs as go\n",
    "\n",
    "#Con este código podremos ver las gráficar desde nuestro cuadernillo de trabajo.\n",
    "%matplotlib inline"
   ]
  },
  {
   "cell_type": "markdown",
   "metadata": {},
   "source": [
    "# Lectura de Archivos"
   ]
  },
  {
   "cell_type": "code",
   "execution_count": 4,
   "metadata": {},
   "outputs": [
    {
     "data": {
      "text/html": [
       "<div>\n",
       "<style scoped>\n",
       "    .dataframe tbody tr th:only-of-type {\n",
       "        vertical-align: middle;\n",
       "    }\n",
       "\n",
       "    .dataframe tbody tr th {\n",
       "        vertical-align: top;\n",
       "    }\n",
       "\n",
       "    .dataframe thead th {\n",
       "        text-align: right;\n",
       "    }\n",
       "</style>\n",
       "<table border=\"1\" class=\"dataframe\">\n",
       "  <thead>\n",
       "    <tr style=\"text-align: right;\">\n",
       "      <th></th>\n",
       "      <th>#</th>\n",
       "      <th>Fecha</th>\n",
       "      <th>Abs Pres, kPa</th>\n",
       "      <th>Temp, C</th>\n",
       "      <th>Water Level, meters</th>\n",
       "    </tr>\n",
       "  </thead>\n",
       "  <tbody>\n",
       "    <tr>\n",
       "      <th>0</th>\n",
       "      <td>1</td>\n",
       "      <td>8/16/18 11:15</td>\n",
       "      <td>112.032</td>\n",
       "      <td>29.152</td>\n",
       "      <td>0.360</td>\n",
       "    </tr>\n",
       "    <tr>\n",
       "      <th>1</th>\n",
       "      <td>2</td>\n",
       "      <td>8/16/18 11:30</td>\n",
       "      <td>111.990</td>\n",
       "      <td>27.567</td>\n",
       "      <td>0.356</td>\n",
       "    </tr>\n",
       "    <tr>\n",
       "      <th>2</th>\n",
       "      <td>3</td>\n",
       "      <td>8/16/18 11:45</td>\n",
       "      <td>111.928</td>\n",
       "      <td>27.272</td>\n",
       "      <td>0.350</td>\n",
       "    </tr>\n",
       "    <tr>\n",
       "      <th>3</th>\n",
       "      <td>4</td>\n",
       "      <td>8/16/18 12:00</td>\n",
       "      <td>111.899</td>\n",
       "      <td>27.173</td>\n",
       "      <td>0.347</td>\n",
       "    </tr>\n",
       "    <tr>\n",
       "      <th>4</th>\n",
       "      <td>5</td>\n",
       "      <td>8/16/18 12:15</td>\n",
       "      <td>111.870</td>\n",
       "      <td>27.075</td>\n",
       "      <td>0.344</td>\n",
       "    </tr>\n",
       "  </tbody>\n",
       "</table>\n",
       "</div>"
      ],
      "text/plain": [
       "   #          Fecha  Abs Pres, kPa  Temp, C  Water Level, meters\n",
       "0  1  8/16/18 11:15        112.032   29.152                0.360\n",
       "1  2  8/16/18 11:30        111.990   27.567                0.356\n",
       "2  3  8/16/18 11:45        111.928   27.272                0.350\n",
       "3  4  8/16/18 12:00        111.899   27.173                0.347\n",
       "4  5  8/16/18 12:15        111.870   27.075                0.344"
      ]
     },
     "execution_count": 4,
     "metadata": {},
     "output_type": "execute_result"
    }
   ],
   "source": [
    "Canal = pd.read_csv('./Canal.csv', header=1)\n",
    "Canal.head()"
   ]
  },
  {
   "cell_type": "code",
   "execution_count": 5,
   "metadata": {},
   "outputs": [
    {
     "data": {
      "text/html": [
       "<div>\n",
       "<style scoped>\n",
       "    .dataframe tbody tr th:only-of-type {\n",
       "        vertical-align: middle;\n",
       "    }\n",
       "\n",
       "    .dataframe tbody tr th {\n",
       "        vertical-align: top;\n",
       "    }\n",
       "\n",
       "    .dataframe thead th {\n",
       "        text-align: right;\n",
       "    }\n",
       "</style>\n",
       "<table border=\"1\" class=\"dataframe\">\n",
       "  <thead>\n",
       "    <tr style=\"text-align: right;\">\n",
       "      <th></th>\n",
       "      <th>#</th>\n",
       "      <th>Fecha</th>\n",
       "      <th>Abs Pres, kPa</th>\n",
       "      <th>Temp, C</th>\n",
       "      <th>Water Level, meters</th>\n",
       "    </tr>\n",
       "  </thead>\n",
       "  <tbody>\n",
       "    <tr>\n",
       "      <th>0</th>\n",
       "      <td>1</td>\n",
       "      <td>8/16/18 12:30</td>\n",
       "      <td>104.359</td>\n",
       "      <td>29.252</td>\n",
       "      <td>-0.340</td>\n",
       "    </tr>\n",
       "    <tr>\n",
       "      <th>1</th>\n",
       "      <td>2</td>\n",
       "      <td>8/16/18 12:45</td>\n",
       "      <td>104.243</td>\n",
       "      <td>28.754</td>\n",
       "      <td>-0.351</td>\n",
       "    </tr>\n",
       "    <tr>\n",
       "      <th>2</th>\n",
       "      <td>3</td>\n",
       "      <td>8/16/18 13:00</td>\n",
       "      <td>104.255</td>\n",
       "      <td>28.655</td>\n",
       "      <td>-0.350</td>\n",
       "    </tr>\n",
       "    <tr>\n",
       "      <th>3</th>\n",
       "      <td>4</td>\n",
       "      <td>8/16/18 13:15</td>\n",
       "      <td>104.239</td>\n",
       "      <td>28.655</td>\n",
       "      <td>-0.352</td>\n",
       "    </tr>\n",
       "    <tr>\n",
       "      <th>4</th>\n",
       "      <td>5</td>\n",
       "      <td>8/16/18 13:30</td>\n",
       "      <td>104.255</td>\n",
       "      <td>28.655</td>\n",
       "      <td>-0.350</td>\n",
       "    </tr>\n",
       "  </tbody>\n",
       "</table>\n",
       "</div>"
      ],
      "text/plain": [
       "   #          Fecha  Abs Pres, kPa  Temp, C  Water Level, meters\n",
       "0  1  8/16/18 12:30        104.359   29.252               -0.340\n",
       "1  2  8/16/18 12:45        104.243   28.754               -0.351\n",
       "2  3  8/16/18 13:00        104.255   28.655               -0.350\n",
       "3  4  8/16/18 13:15        104.239   28.655               -0.352\n",
       "4  5  8/16/18 13:30        104.255   28.655               -0.350"
      ]
     },
     "execution_count": 5,
     "metadata": {},
     "output_type": "execute_result"
    }
   ],
   "source": [
    "Estacion = pd.read_csv('./Estacion.csv', header=1)\n",
    "Estacion.head()"
   ]
  },
  {
   "cell_type": "code",
   "execution_count": 6,
   "metadata": {},
   "outputs": [
    {
     "data": {
      "text/html": [
       "<div>\n",
       "<style scoped>\n",
       "    .dataframe tbody tr th:only-of-type {\n",
       "        vertical-align: middle;\n",
       "    }\n",
       "\n",
       "    .dataframe tbody tr th {\n",
       "        vertical-align: top;\n",
       "    }\n",
       "\n",
       "    .dataframe thead th {\n",
       "        text-align: right;\n",
       "    }\n",
       "</style>\n",
       "<table border=\"1\" class=\"dataframe\">\n",
       "  <thead>\n",
       "    <tr style=\"text-align: right;\">\n",
       "      <th></th>\n",
       "      <th>#</th>\n",
       "      <th>Fecha</th>\n",
       "      <th>Cond Low Rng, S/cm</th>\n",
       "      <th>Cond High Rng, S/cm</th>\n",
       "      <th>Temp, C</th>\n",
       "      <th>Specific Conductance, S/cm</th>\n",
       "      <th>Salinity, ppt</th>\n",
       "    </tr>\n",
       "  </thead>\n",
       "  <tbody>\n",
       "    <tr>\n",
       "      <th>0</th>\n",
       "      <td>1</td>\n",
       "      <td>8/16/18 12:45</td>\n",
       "      <td>33686</td>\n",
       "      <td>54525.5</td>\n",
       "      <td>28.54</td>\n",
       "      <td>50942.8</td>\n",
       "      <td>33.4310</td>\n",
       "    </tr>\n",
       "    <tr>\n",
       "      <th>1</th>\n",
       "      <td>2</td>\n",
       "      <td>8/16/18 13:00</td>\n",
       "      <td>33686</td>\n",
       "      <td>54525.5</td>\n",
       "      <td>28.43</td>\n",
       "      <td>51048.0</td>\n",
       "      <td>33.5085</td>\n",
       "    </tr>\n",
       "    <tr>\n",
       "      <th>2</th>\n",
       "      <td>3</td>\n",
       "      <td>8/16/18 13:15</td>\n",
       "      <td>33686</td>\n",
       "      <td>54525.5</td>\n",
       "      <td>28.35</td>\n",
       "      <td>51124.8</td>\n",
       "      <td>33.5651</td>\n",
       "    </tr>\n",
       "    <tr>\n",
       "      <th>3</th>\n",
       "      <td>4</td>\n",
       "      <td>8/16/18 13:30</td>\n",
       "      <td>33686</td>\n",
       "      <td>54525.5</td>\n",
       "      <td>28.31</td>\n",
       "      <td>51163.3</td>\n",
       "      <td>33.5935</td>\n",
       "    </tr>\n",
       "    <tr>\n",
       "      <th>4</th>\n",
       "      <td>5</td>\n",
       "      <td>8/16/18 13:45</td>\n",
       "      <td>33686</td>\n",
       "      <td>54525.5</td>\n",
       "      <td>28.28</td>\n",
       "      <td>51192.2</td>\n",
       "      <td>33.6148</td>\n",
       "    </tr>\n",
       "  </tbody>\n",
       "</table>\n",
       "</div>"
      ],
      "text/plain": [
       "   #          Fecha  Cond Low Rng, S/cm  Cond High Rng, S/cm  Temp, C  \\\n",
       "0  1  8/16/18 12:45               33686              54525.5    28.54   \n",
       "1  2  8/16/18 13:00               33686              54525.5    28.43   \n",
       "2  3  8/16/18 13:15               33686              54525.5    28.35   \n",
       "3  4  8/16/18 13:30               33686              54525.5    28.31   \n",
       "4  5  8/16/18 13:45               33686              54525.5    28.28   \n",
       "\n",
       "   Specific Conductance, S/cm  Salinity, ppt  \n",
       "0                     50942.8        33.4310  \n",
       "1                     51048.0        33.5085  \n",
       "2                     51124.8        33.5651  \n",
       "3                     51163.3        33.5935  \n",
       "4                     51192.2        33.6148  "
      ]
     },
     "execution_count": 6,
     "metadata": {},
     "output_type": "execute_result"
    }
   ],
   "source": [
    "Salinidad = pd.read_csv('./Salinidad.csv', header=1)\n",
    "Salinidad.head()"
   ]
  },
  {
   "cell_type": "markdown",
   "metadata": {},
   "source": [
    "# Preparación de los Datos"
   ]
  },
  {
   "cell_type": "markdown",
   "metadata": {},
   "source": [
    "## Eliminar Datos Innecesarios"
   ]
  },
  {
   "cell_type": "raw",
   "metadata": {},
   "source": [
    "En este caso, la columna # es un dato innecesario, así que procedemos a eliminarlo dicha información"
   ]
  },
  {
   "cell_type": "code",
   "execution_count": 7,
   "metadata": {},
   "outputs": [
    {
     "data": {
      "text/html": [
       "<div>\n",
       "<style scoped>\n",
       "    .dataframe tbody tr th:only-of-type {\n",
       "        vertical-align: middle;\n",
       "    }\n",
       "\n",
       "    .dataframe tbody tr th {\n",
       "        vertical-align: top;\n",
       "    }\n",
       "\n",
       "    .dataframe thead th {\n",
       "        text-align: right;\n",
       "    }\n",
       "</style>\n",
       "<table border=\"1\" class=\"dataframe\">\n",
       "  <thead>\n",
       "    <tr style=\"text-align: right;\">\n",
       "      <th></th>\n",
       "      <th>Fecha</th>\n",
       "      <th>Abs Pres, kPa</th>\n",
       "      <th>Temp, C</th>\n",
       "      <th>Water Level, meters</th>\n",
       "    </tr>\n",
       "  </thead>\n",
       "  <tbody>\n",
       "    <tr>\n",
       "      <th>0</th>\n",
       "      <td>8/16/18 11:15</td>\n",
       "      <td>112.032</td>\n",
       "      <td>29.152</td>\n",
       "      <td>0.360</td>\n",
       "    </tr>\n",
       "    <tr>\n",
       "      <th>1</th>\n",
       "      <td>8/16/18 11:30</td>\n",
       "      <td>111.990</td>\n",
       "      <td>27.567</td>\n",
       "      <td>0.356</td>\n",
       "    </tr>\n",
       "    <tr>\n",
       "      <th>2</th>\n",
       "      <td>8/16/18 11:45</td>\n",
       "      <td>111.928</td>\n",
       "      <td>27.272</td>\n",
       "      <td>0.350</td>\n",
       "    </tr>\n",
       "    <tr>\n",
       "      <th>3</th>\n",
       "      <td>8/16/18 12:00</td>\n",
       "      <td>111.899</td>\n",
       "      <td>27.173</td>\n",
       "      <td>0.347</td>\n",
       "    </tr>\n",
       "    <tr>\n",
       "      <th>4</th>\n",
       "      <td>8/16/18 12:15</td>\n",
       "      <td>111.870</td>\n",
       "      <td>27.075</td>\n",
       "      <td>0.344</td>\n",
       "    </tr>\n",
       "  </tbody>\n",
       "</table>\n",
       "</div>"
      ],
      "text/plain": [
       "           Fecha  Abs Pres, kPa  Temp, C  Water Level, meters\n",
       "0  8/16/18 11:15        112.032   29.152                0.360\n",
       "1  8/16/18 11:30        111.990   27.567                0.356\n",
       "2  8/16/18 11:45        111.928   27.272                0.350\n",
       "3  8/16/18 12:00        111.899   27.173                0.347\n",
       "4  8/16/18 12:15        111.870   27.075                0.344"
      ]
     },
     "execution_count": 7,
     "metadata": {},
     "output_type": "execute_result"
    }
   ],
   "source": [
    "Temp = Canal.drop('#', axis=1)\n",
    "Canal = Temp\n",
    "Canal.head()"
   ]
  },
  {
   "cell_type": "code",
   "execution_count": 8,
   "metadata": {},
   "outputs": [
    {
     "data": {
      "text/html": [
       "<div>\n",
       "<style scoped>\n",
       "    .dataframe tbody tr th:only-of-type {\n",
       "        vertical-align: middle;\n",
       "    }\n",
       "\n",
       "    .dataframe tbody tr th {\n",
       "        vertical-align: top;\n",
       "    }\n",
       "\n",
       "    .dataframe thead th {\n",
       "        text-align: right;\n",
       "    }\n",
       "</style>\n",
       "<table border=\"1\" class=\"dataframe\">\n",
       "  <thead>\n",
       "    <tr style=\"text-align: right;\">\n",
       "      <th></th>\n",
       "      <th>Fecha</th>\n",
       "      <th>Abs Pres, kPa</th>\n",
       "      <th>Temp, C</th>\n",
       "      <th>Water Level, meters</th>\n",
       "    </tr>\n",
       "  </thead>\n",
       "  <tbody>\n",
       "    <tr>\n",
       "      <th>0</th>\n",
       "      <td>8/16/18 12:30</td>\n",
       "      <td>104.359</td>\n",
       "      <td>29.252</td>\n",
       "      <td>-0.340</td>\n",
       "    </tr>\n",
       "    <tr>\n",
       "      <th>1</th>\n",
       "      <td>8/16/18 12:45</td>\n",
       "      <td>104.243</td>\n",
       "      <td>28.754</td>\n",
       "      <td>-0.351</td>\n",
       "    </tr>\n",
       "    <tr>\n",
       "      <th>2</th>\n",
       "      <td>8/16/18 13:00</td>\n",
       "      <td>104.255</td>\n",
       "      <td>28.655</td>\n",
       "      <td>-0.350</td>\n",
       "    </tr>\n",
       "    <tr>\n",
       "      <th>3</th>\n",
       "      <td>8/16/18 13:15</td>\n",
       "      <td>104.239</td>\n",
       "      <td>28.655</td>\n",
       "      <td>-0.352</td>\n",
       "    </tr>\n",
       "    <tr>\n",
       "      <th>4</th>\n",
       "      <td>8/16/18 13:30</td>\n",
       "      <td>104.255</td>\n",
       "      <td>28.655</td>\n",
       "      <td>-0.350</td>\n",
       "    </tr>\n",
       "  </tbody>\n",
       "</table>\n",
       "</div>"
      ],
      "text/plain": [
       "           Fecha  Abs Pres, kPa  Temp, C  Water Level, meters\n",
       "0  8/16/18 12:30        104.359   29.252               -0.340\n",
       "1  8/16/18 12:45        104.243   28.754               -0.351\n",
       "2  8/16/18 13:00        104.255   28.655               -0.350\n",
       "3  8/16/18 13:15        104.239   28.655               -0.352\n",
       "4  8/16/18 13:30        104.255   28.655               -0.350"
      ]
     },
     "execution_count": 8,
     "metadata": {},
     "output_type": "execute_result"
    }
   ],
   "source": [
    "Temp = Estacion.drop('#', axis=1)\n",
    "Estacion = Temp\n",
    "Estacion.head()"
   ]
  },
  {
   "cell_type": "code",
   "execution_count": 9,
   "metadata": {},
   "outputs": [
    {
     "data": {
      "text/html": [
       "<div>\n",
       "<style scoped>\n",
       "    .dataframe tbody tr th:only-of-type {\n",
       "        vertical-align: middle;\n",
       "    }\n",
       "\n",
       "    .dataframe tbody tr th {\n",
       "        vertical-align: top;\n",
       "    }\n",
       "\n",
       "    .dataframe thead th {\n",
       "        text-align: right;\n",
       "    }\n",
       "</style>\n",
       "<table border=\"1\" class=\"dataframe\">\n",
       "  <thead>\n",
       "    <tr style=\"text-align: right;\">\n",
       "      <th></th>\n",
       "      <th>Fecha</th>\n",
       "      <th>Cond Low Rng, S/cm</th>\n",
       "      <th>Cond High Rng, S/cm</th>\n",
       "      <th>Temp, C</th>\n",
       "      <th>Specific Conductance, S/cm</th>\n",
       "      <th>Salinity, ppt</th>\n",
       "    </tr>\n",
       "  </thead>\n",
       "  <tbody>\n",
       "    <tr>\n",
       "      <th>0</th>\n",
       "      <td>8/16/18 12:45</td>\n",
       "      <td>33686</td>\n",
       "      <td>54525.5</td>\n",
       "      <td>28.54</td>\n",
       "      <td>50942.8</td>\n",
       "      <td>33.4310</td>\n",
       "    </tr>\n",
       "    <tr>\n",
       "      <th>1</th>\n",
       "      <td>8/16/18 13:00</td>\n",
       "      <td>33686</td>\n",
       "      <td>54525.5</td>\n",
       "      <td>28.43</td>\n",
       "      <td>51048.0</td>\n",
       "      <td>33.5085</td>\n",
       "    </tr>\n",
       "    <tr>\n",
       "      <th>2</th>\n",
       "      <td>8/16/18 13:15</td>\n",
       "      <td>33686</td>\n",
       "      <td>54525.5</td>\n",
       "      <td>28.35</td>\n",
       "      <td>51124.8</td>\n",
       "      <td>33.5651</td>\n",
       "    </tr>\n",
       "    <tr>\n",
       "      <th>3</th>\n",
       "      <td>8/16/18 13:30</td>\n",
       "      <td>33686</td>\n",
       "      <td>54525.5</td>\n",
       "      <td>28.31</td>\n",
       "      <td>51163.3</td>\n",
       "      <td>33.5935</td>\n",
       "    </tr>\n",
       "    <tr>\n",
       "      <th>4</th>\n",
       "      <td>8/16/18 13:45</td>\n",
       "      <td>33686</td>\n",
       "      <td>54525.5</td>\n",
       "      <td>28.28</td>\n",
       "      <td>51192.2</td>\n",
       "      <td>33.6148</td>\n",
       "    </tr>\n",
       "  </tbody>\n",
       "</table>\n",
       "</div>"
      ],
      "text/plain": [
       "           Fecha  Cond Low Rng, S/cm  Cond High Rng, S/cm  Temp, C  \\\n",
       "0  8/16/18 12:45               33686              54525.5    28.54   \n",
       "1  8/16/18 13:00               33686              54525.5    28.43   \n",
       "2  8/16/18 13:15               33686              54525.5    28.35   \n",
       "3  8/16/18 13:30               33686              54525.5    28.31   \n",
       "4  8/16/18 13:45               33686              54525.5    28.28   \n",
       "\n",
       "   Specific Conductance, S/cm  Salinity, ppt  \n",
       "0                     50942.8        33.4310  \n",
       "1                     51048.0        33.5085  \n",
       "2                     51124.8        33.5651  \n",
       "3                     51163.3        33.5935  \n",
       "4                     51192.2        33.6148  "
      ]
     },
     "execution_count": 9,
     "metadata": {},
     "output_type": "execute_result"
    }
   ],
   "source": [
    "Temp = Salinidad.drop('#', axis=1)\n",
    "Salinidad = Temp\n",
    "Salinidad.head()"
   ]
  },
  {
   "cell_type": "markdown",
   "metadata": {},
   "source": [
    "## Cambio de Formato"
   ]
  },
  {
   "cell_type": "raw",
   "metadata": {},
   "source": [
    "Entre nuestros datos tenemos una columna para la fecha y hora, sin embargo, el formato que presenta es OBJECT (se percibe como texto) cuando en realidad debe ser DATETIME para tener un manejo de la información mucho más sencillo."
   ]
  },
  {
   "cell_type": "code",
   "execution_count": 10,
   "metadata": {},
   "outputs": [
    {
     "data": {
      "text/plain": [
       "Fecha                  datetime64[ns]\n",
       "Abs Pres, kPa                 float64\n",
       "Temp, C                       float64\n",
       "Water Level, meters           float64\n",
       "dtype: object"
      ]
     },
     "execution_count": 10,
     "metadata": {},
     "output_type": "execute_result"
    }
   ],
   "source": [
    "Canal['Fecha'] = pd.to_datetime(Canal['Fecha'])\n",
    "Canal.dtypes"
   ]
  },
  {
   "cell_type": "code",
   "execution_count": 11,
   "metadata": {},
   "outputs": [
    {
     "data": {
      "text/plain": [
       "Fecha                  datetime64[ns]\n",
       "Abs Pres, kPa                 float64\n",
       "Temp, C                       float64\n",
       "Water Level, meters           float64\n",
       "dtype: object"
      ]
     },
     "execution_count": 11,
     "metadata": {},
     "output_type": "execute_result"
    }
   ],
   "source": [
    "Estacion['Fecha'] = pd.to_datetime(Estacion['Fecha'])\n",
    "Estacion.dtypes"
   ]
  },
  {
   "cell_type": "code",
   "execution_count": 12,
   "metadata": {},
   "outputs": [
    {
     "data": {
      "text/plain": [
       "Fecha                         datetime64[ns]\n",
       "Cond Low Rng, S/cm                     int64\n",
       "Cond High Rng, S/cm                  float64\n",
       "Temp, C                              float64\n",
       "Specific Conductance, S/cm           float64\n",
       "Salinity, ppt                        float64\n",
       "dtype: object"
      ]
     },
     "execution_count": 12,
     "metadata": {},
     "output_type": "execute_result"
    }
   ],
   "source": [
    "Salinidad['Fecha'] = pd.to_datetime(Salinidad['Fecha'])\n",
    "Salinidad.dtypes"
   ]
  },
  {
   "cell_type": "markdown",
   "metadata": {},
   "source": [
    "## Renombrar Columnas"
   ]
  },
  {
   "cell_type": "raw",
   "metadata": {},
   "source": [
    "Modificaremos los encabezados de cada columna, de modo que presenten nombres más cortos y sin caracteres que puedan ocasionar problema al leerlos."
   ]
  },
  {
   "cell_type": "code",
   "execution_count": 20,
   "metadata": {},
   "outputs": [
    {
     "data": {
      "text/html": [
       "<div>\n",
       "<style scoped>\n",
       "    .dataframe tbody tr th:only-of-type {\n",
       "        vertical-align: middle;\n",
       "    }\n",
       "\n",
       "    .dataframe tbody tr th {\n",
       "        vertical-align: top;\n",
       "    }\n",
       "\n",
       "    .dataframe thead th {\n",
       "        text-align: right;\n",
       "    }\n",
       "</style>\n",
       "<table border=\"1\" class=\"dataframe\">\n",
       "  <thead>\n",
       "    <tr style=\"text-align: right;\">\n",
       "      <th></th>\n",
       "      <th>Fecha</th>\n",
       "      <th>PresAbs</th>\n",
       "      <th>Tempe</th>\n",
       "      <th>NivelAgua</th>\n",
       "    </tr>\n",
       "  </thead>\n",
       "  <tbody>\n",
       "    <tr>\n",
       "      <th>0</th>\n",
       "      <td>2018-08-16 11:15:00</td>\n",
       "      <td>112.032</td>\n",
       "      <td>29.152</td>\n",
       "      <td>0.360</td>\n",
       "    </tr>\n",
       "    <tr>\n",
       "      <th>1</th>\n",
       "      <td>2018-08-16 11:30:00</td>\n",
       "      <td>111.990</td>\n",
       "      <td>27.567</td>\n",
       "      <td>0.356</td>\n",
       "    </tr>\n",
       "    <tr>\n",
       "      <th>2</th>\n",
       "      <td>2018-08-16 11:45:00</td>\n",
       "      <td>111.928</td>\n",
       "      <td>27.272</td>\n",
       "      <td>0.350</td>\n",
       "    </tr>\n",
       "    <tr>\n",
       "      <th>3</th>\n",
       "      <td>2018-08-16 12:00:00</td>\n",
       "      <td>111.899</td>\n",
       "      <td>27.173</td>\n",
       "      <td>0.347</td>\n",
       "    </tr>\n",
       "    <tr>\n",
       "      <th>4</th>\n",
       "      <td>2018-08-16 12:15:00</td>\n",
       "      <td>111.870</td>\n",
       "      <td>27.075</td>\n",
       "      <td>0.344</td>\n",
       "    </tr>\n",
       "  </tbody>\n",
       "</table>\n",
       "</div>"
      ],
      "text/plain": [
       "                Fecha  PresAbs   Tempe  NivelAgua\n",
       "0 2018-08-16 11:15:00  112.032  29.152      0.360\n",
       "1 2018-08-16 11:30:00  111.990  27.567      0.356\n",
       "2 2018-08-16 11:45:00  111.928  27.272      0.350\n",
       "3 2018-08-16 12:00:00  111.899  27.173      0.347\n",
       "4 2018-08-16 12:15:00  111.870  27.075      0.344"
      ]
     },
     "execution_count": 20,
     "metadata": {},
     "output_type": "execute_result"
    }
   ],
   "source": [
    "Canal.columns = ['Fecha', 'PresAbs', 'Tempe', 'NivelAgua']\n",
    "Canal.head()"
   ]
  },
  {
   "cell_type": "code",
   "execution_count": 21,
   "metadata": {},
   "outputs": [
    {
     "data": {
      "text/html": [
       "<div>\n",
       "<style scoped>\n",
       "    .dataframe tbody tr th:only-of-type {\n",
       "        vertical-align: middle;\n",
       "    }\n",
       "\n",
       "    .dataframe tbody tr th {\n",
       "        vertical-align: top;\n",
       "    }\n",
       "\n",
       "    .dataframe thead th {\n",
       "        text-align: right;\n",
       "    }\n",
       "</style>\n",
       "<table border=\"1\" class=\"dataframe\">\n",
       "  <thead>\n",
       "    <tr style=\"text-align: right;\">\n",
       "      <th></th>\n",
       "      <th>Fecha</th>\n",
       "      <th>PresAbs</th>\n",
       "      <th>Tempe</th>\n",
       "      <th>NivelAgua</th>\n",
       "    </tr>\n",
       "  </thead>\n",
       "  <tbody>\n",
       "    <tr>\n",
       "      <th>0</th>\n",
       "      <td>2018-08-16 12:30:00</td>\n",
       "      <td>104.359</td>\n",
       "      <td>29.252</td>\n",
       "      <td>-0.340</td>\n",
       "    </tr>\n",
       "    <tr>\n",
       "      <th>1</th>\n",
       "      <td>2018-08-16 12:45:00</td>\n",
       "      <td>104.243</td>\n",
       "      <td>28.754</td>\n",
       "      <td>-0.351</td>\n",
       "    </tr>\n",
       "    <tr>\n",
       "      <th>2</th>\n",
       "      <td>2018-08-16 13:00:00</td>\n",
       "      <td>104.255</td>\n",
       "      <td>28.655</td>\n",
       "      <td>-0.350</td>\n",
       "    </tr>\n",
       "    <tr>\n",
       "      <th>3</th>\n",
       "      <td>2018-08-16 13:15:00</td>\n",
       "      <td>104.239</td>\n",
       "      <td>28.655</td>\n",
       "      <td>-0.352</td>\n",
       "    </tr>\n",
       "    <tr>\n",
       "      <th>4</th>\n",
       "      <td>2018-08-16 13:30:00</td>\n",
       "      <td>104.255</td>\n",
       "      <td>28.655</td>\n",
       "      <td>-0.350</td>\n",
       "    </tr>\n",
       "  </tbody>\n",
       "</table>\n",
       "</div>"
      ],
      "text/plain": [
       "                Fecha  PresAbs   Tempe  NivelAgua\n",
       "0 2018-08-16 12:30:00  104.359  29.252     -0.340\n",
       "1 2018-08-16 12:45:00  104.243  28.754     -0.351\n",
       "2 2018-08-16 13:00:00  104.255  28.655     -0.350\n",
       "3 2018-08-16 13:15:00  104.239  28.655     -0.352\n",
       "4 2018-08-16 13:30:00  104.255  28.655     -0.350"
      ]
     },
     "execution_count": 21,
     "metadata": {},
     "output_type": "execute_result"
    }
   ],
   "source": [
    "Estacion.columns = ['Fecha', 'PresAbs', 'Tempe', 'NivelAgua']\n",
    "Estacion.head()"
   ]
  },
  {
   "cell_type": "code",
   "execution_count": 22,
   "metadata": {},
   "outputs": [
    {
     "data": {
      "text/html": [
       "<div>\n",
       "<style scoped>\n",
       "    .dataframe tbody tr th:only-of-type {\n",
       "        vertical-align: middle;\n",
       "    }\n",
       "\n",
       "    .dataframe tbody tr th {\n",
       "        vertical-align: top;\n",
       "    }\n",
       "\n",
       "    .dataframe thead th {\n",
       "        text-align: right;\n",
       "    }\n",
       "</style>\n",
       "<table border=\"1\" class=\"dataframe\">\n",
       "  <thead>\n",
       "    <tr style=\"text-align: right;\">\n",
       "      <th></th>\n",
       "      <th>Fecha</th>\n",
       "      <th>CondLow</th>\n",
       "      <th>CondHigh</th>\n",
       "      <th>Tempe</th>\n",
       "      <th>ConduEspec</th>\n",
       "      <th>Sali</th>\n",
       "    </tr>\n",
       "  </thead>\n",
       "  <tbody>\n",
       "    <tr>\n",
       "      <th>0</th>\n",
       "      <td>2018-08-16 12:45:00</td>\n",
       "      <td>33686</td>\n",
       "      <td>54525.5</td>\n",
       "      <td>28.54</td>\n",
       "      <td>50942.8</td>\n",
       "      <td>33.4310</td>\n",
       "    </tr>\n",
       "    <tr>\n",
       "      <th>1</th>\n",
       "      <td>2018-08-16 13:00:00</td>\n",
       "      <td>33686</td>\n",
       "      <td>54525.5</td>\n",
       "      <td>28.43</td>\n",
       "      <td>51048.0</td>\n",
       "      <td>33.5085</td>\n",
       "    </tr>\n",
       "    <tr>\n",
       "      <th>2</th>\n",
       "      <td>2018-08-16 13:15:00</td>\n",
       "      <td>33686</td>\n",
       "      <td>54525.5</td>\n",
       "      <td>28.35</td>\n",
       "      <td>51124.8</td>\n",
       "      <td>33.5651</td>\n",
       "    </tr>\n",
       "    <tr>\n",
       "      <th>3</th>\n",
       "      <td>2018-08-16 13:30:00</td>\n",
       "      <td>33686</td>\n",
       "      <td>54525.5</td>\n",
       "      <td>28.31</td>\n",
       "      <td>51163.3</td>\n",
       "      <td>33.5935</td>\n",
       "    </tr>\n",
       "    <tr>\n",
       "      <th>4</th>\n",
       "      <td>2018-08-16 13:45:00</td>\n",
       "      <td>33686</td>\n",
       "      <td>54525.5</td>\n",
       "      <td>28.28</td>\n",
       "      <td>51192.2</td>\n",
       "      <td>33.6148</td>\n",
       "    </tr>\n",
       "  </tbody>\n",
       "</table>\n",
       "</div>"
      ],
      "text/plain": [
       "                Fecha  CondLow  CondHigh  Tempe  ConduEspec     Sali\n",
       "0 2018-08-16 12:45:00    33686   54525.5  28.54     50942.8  33.4310\n",
       "1 2018-08-16 13:00:00    33686   54525.5  28.43     51048.0  33.5085\n",
       "2 2018-08-16 13:15:00    33686   54525.5  28.35     51124.8  33.5651\n",
       "3 2018-08-16 13:30:00    33686   54525.5  28.31     51163.3  33.5935\n",
       "4 2018-08-16 13:45:00    33686   54525.5  28.28     51192.2  33.6148"
      ]
     },
     "execution_count": 22,
     "metadata": {},
     "output_type": "execute_result"
    }
   ],
   "source": [
    "Salinidad.columns = ['Fecha', 'CondLow', 'CondHigh', 'Tempe', 'ConduEspec', 'Sali']\n",
    "Salinidad.head()"
   ]
  },
  {
   "cell_type": "markdown",
   "metadata": {},
   "source": [
    "# Creación de Gráficas"
   ]
  },
  {
   "cell_type": "raw",
   "metadata": {},
   "source": [
    "Crearemos algunas gráficas para ver la correlación entre los diversos factores, todo esto para distintos períodos de tiempo (un día y una semana).\n",
    "Entre las gráficas a crear tenermos:\n",
    "    - Nivel del mar en la estación y del canal.\n",
    "    - Salinidad y nivel del mar junto a la estación.\n",
    "    - Temperatura del agua en la estación y el canal.\n",
    "    - Nivel del mar y salinidad."
   ]
  },
  {
   "cell_type": "markdown",
   "metadata": {},
   "source": [
    "## Datos por Períodos"
   ]
  },
  {
   "cell_type": "raw",
   "metadata": {},
   "source": [
    "Haremos dos nuevos arreglos, uno de ellos con un período de un día; el otro, una semana."
   ]
  },
  {
   "cell_type": "markdown",
   "metadata": {},
   "source": [
    "### Canal"
   ]
  },
  {
   "cell_type": "code",
   "execution_count": 16,
   "metadata": {},
   "outputs": [],
   "source": [
    "#Arreglo para un sólo día\n",
    "DiaCanal = Canal[(Canal['Fecha'] > '2018-08-30 23:59:59') & \n",
    "                 (Canal['Fecha'] < '2018-09-01 00:00:00')]\n",
    "\n",
    "#Arreglo para una semana\n",
    "SemCanal = Canal[(Canal['Fecha'] > '2018-08-31 23:59:59') & \n",
    "                 (Canal['Fecha'] < '2018-09-08 00:00:00')]"
   ]
  },
  {
   "cell_type": "markdown",
   "metadata": {},
   "source": [
    "### Estación"
   ]
  },
  {
   "cell_type": "code",
   "execution_count": 17,
   "metadata": {},
   "outputs": [],
   "source": [
    "#Arreglo para un sólo día\n",
    "DiaEstacion = Estacion[(Estacion['Fecha'] > '2018-08-30 23:59:59') & \n",
    "                 (Estacion['Fecha'] < '2018-09-01 00:00:00')]\n",
    "\n",
    "#Arreglo para una semana\n",
    "SemEstacion = Estacion[(Estacion['Fecha'] > '2018-08-31 23:59:59') & \n",
    "                 (Estacion['Fecha'] < '2018-09-08 00:00:00')]"
   ]
  },
  {
   "cell_type": "markdown",
   "metadata": {},
   "source": [
    "### Salinidad"
   ]
  },
  {
   "cell_type": "code",
   "execution_count": 18,
   "metadata": {},
   "outputs": [],
   "source": [
    "#Arreglo para un sólo día\n",
    "DiaSalinidad = Salinidad[(Salinidad['Fecha'] > '2018-08-30 23:59:59') & \n",
    "                 (Salinidad['Fecha'] < '2018-09-01 00:00:00')]\n",
    "\n",
    "#Arreglo para una semana\n",
    "SemSalinidad = Salinidad[(Salinidad['Fecha'] > '2018-08-31 23:59:59') & \n",
    "                 (Salinidad['Fecha'] < '2018-09-08 00:00:00')]"
   ]
  },
  {
   "cell_type": "markdown",
   "metadata": {},
   "source": [
    "## Gráficas"
   ]
  },
  {
   "cell_type": "code",
   "execution_count": 19,
   "metadata": {},
   "outputs": [],
   "source": [
    "#Nivel del mar en la estación y el canal\n",
    "x = DiaEstacion['Fecha']\n",
    "y1 = DiaEstacion['NivelAgua']\n",
    "y2 = DiaCanal['NivelAgua']\n",
    "\n"
   ]
  },
  {
   "cell_type": "code",
   "execution_count": null,
   "metadata": {},
   "outputs": [],
   "source": []
  },
  {
   "cell_type": "code",
   "execution_count": null,
   "metadata": {},
   "outputs": [],
   "source": []
  }
 ],
 "metadata": {
  "kernelspec": {
   "display_name": "Python 3",
   "language": "python",
   "name": "python3"
  },
  "language_info": {
   "codemirror_mode": {
    "name": "ipython",
    "version": 3
   },
   "file_extension": ".py",
   "mimetype": "text/x-python",
   "name": "python",
   "nbconvert_exporter": "python",
   "pygments_lexer": "ipython3",
   "version": "3.6.5"
  }
 },
 "nbformat": 4,
 "nbformat_minor": 2
}
