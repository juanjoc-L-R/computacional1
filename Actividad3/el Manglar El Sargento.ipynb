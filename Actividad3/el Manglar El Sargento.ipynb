{
 "cells": [
  {
   "cell_type": "code",
   "execution_count": 1,
   "metadata": {},
   "outputs": [],
   "source": [
    "import pandas as pd\n",
    "import numpy as np\n",
    "import matplotlib.pyplot as plt\n"
   ]
  },
  {
   "cell_type": "markdown",
   "metadata": {},
   "source": [
    "# importar datosd"
   ]
  },
  {
   "cell_type": "code",
   "execution_count": 2,
   "metadata": {},
   "outputs": [
    {
     "data": {
      "text/html": [
       "<div>\n",
       "<style scoped>\n",
       "    .dataframe tbody tr th:only-of-type {\n",
       "        vertical-align: middle;\n",
       "    }\n",
       "\n",
       "    .dataframe tbody tr th {\n",
       "        vertical-align: top;\n",
       "    }\n",
       "\n",
       "    .dataframe thead th {\n",
       "        text-align: right;\n",
       "    }\n",
       "</style>\n",
       "<table border=\"1\" class=\"dataframe\">\n",
       "  <thead>\n",
       "    <tr style=\"text-align: right;\">\n",
       "      <th></th>\n",
       "      <th>0</th>\n",
       "      <th>1</th>\n",
       "      <th>2</th>\n",
       "      <th>3</th>\n",
       "      <th>4</th>\n",
       "    </tr>\n",
       "  </thead>\n",
       "  <tbody>\n",
       "    <tr>\n",
       "      <th>0</th>\n",
       "      <td>1</td>\n",
       "      <td>08/16/2018 12:30:00</td>\n",
       "      <td>104.359</td>\n",
       "      <td>29.252</td>\n",
       "      <td>-0.340</td>\n",
       "    </tr>\n",
       "    <tr>\n",
       "      <th>1</th>\n",
       "      <td>2</td>\n",
       "      <td>08/16/2018 12:45:00</td>\n",
       "      <td>104.243</td>\n",
       "      <td>28.754</td>\n",
       "      <td>-0.351</td>\n",
       "    </tr>\n",
       "    <tr>\n",
       "      <th>2</th>\n",
       "      <td>3</td>\n",
       "      <td>08/16/2018 13:00:00</td>\n",
       "      <td>104.255</td>\n",
       "      <td>28.655</td>\n",
       "      <td>-0.350</td>\n",
       "    </tr>\n",
       "    <tr>\n",
       "      <th>3</th>\n",
       "      <td>4</td>\n",
       "      <td>08/16/2018 13:15:00</td>\n",
       "      <td>104.239</td>\n",
       "      <td>28.655</td>\n",
       "      <td>-0.352</td>\n",
       "    </tr>\n",
       "    <tr>\n",
       "      <th>4</th>\n",
       "      <td>5</td>\n",
       "      <td>08/16/2018 13:30:00</td>\n",
       "      <td>104.255</td>\n",
       "      <td>28.655</td>\n",
       "      <td>-0.350</td>\n",
       "    </tr>\n",
       "  </tbody>\n",
       "</table>\n",
       "</div>"
      ],
      "text/plain": [
       "   0                    1        2       3      4\n",
       "0  1  08/16/2018 12:30:00  104.359  29.252 -0.340\n",
       "1  2  08/16/2018 12:45:00  104.243  28.754 -0.351\n",
       "2  3  08/16/2018 13:00:00  104.255  28.655 -0.350\n",
       "3  4  08/16/2018 13:15:00  104.239  28.655 -0.352\n",
       "4  5  08/16/2018 13:30:00  104.255  28.655 -0.350"
      ]
     },
     "execution_count": 2,
     "metadata": {},
     "output_type": "execute_result"
    }
   ],
   "source": [
    "old = pd.read_csv('sargento-old-080918.csv', header=None, skiprows=2 )\n",
    "old.head()"
   ]
  },
  {
   "cell_type": "code",
   "execution_count": 3,
   "metadata": {},
   "outputs": [],
   "source": [
    "pd.read_csv?"
   ]
  },
  {
   "cell_type": "code",
   "execution_count": 4,
   "metadata": {},
   "outputs": [
    {
     "data": {
      "text/html": [
       "<div>\n",
       "<style scoped>\n",
       "    .dataframe tbody tr th:only-of-type {\n",
       "        vertical-align: middle;\n",
       "    }\n",
       "\n",
       "    .dataframe tbody tr th {\n",
       "        vertical-align: top;\n",
       "    }\n",
       "\n",
       "    .dataframe thead th {\n",
       "        text-align: right;\n",
       "    }\n",
       "</style>\n",
       "<table border=\"1\" class=\"dataframe\">\n",
       "  <thead>\n",
       "    <tr style=\"text-align: right;\">\n",
       "      <th></th>\n",
       "      <th>0</th>\n",
       "      <th>1</th>\n",
       "      <th>2</th>\n",
       "      <th>3</th>\n",
       "      <th>4</th>\n",
       "    </tr>\n",
       "  </thead>\n",
       "  <tbody>\n",
       "    <tr>\n",
       "      <th>0</th>\n",
       "      <td>1</td>\n",
       "      <td>08/16/2018 11:15:01</td>\n",
       "      <td>112.032</td>\n",
       "      <td>29.152</td>\n",
       "      <td>0.360</td>\n",
       "    </tr>\n",
       "    <tr>\n",
       "      <th>1</th>\n",
       "      <td>2</td>\n",
       "      <td>08/16/2018 11:30:02</td>\n",
       "      <td>111.990</td>\n",
       "      <td>27.567</td>\n",
       "      <td>0.356</td>\n",
       "    </tr>\n",
       "    <tr>\n",
       "      <th>2</th>\n",
       "      <td>3</td>\n",
       "      <td>08/16/2018 11:45:03</td>\n",
       "      <td>111.928</td>\n",
       "      <td>27.272</td>\n",
       "      <td>0.350</td>\n",
       "    </tr>\n",
       "    <tr>\n",
       "      <th>3</th>\n",
       "      <td>4</td>\n",
       "      <td>08/16/2018 12:00:04</td>\n",
       "      <td>111.899</td>\n",
       "      <td>27.173</td>\n",
       "      <td>0.347</td>\n",
       "    </tr>\n",
       "    <tr>\n",
       "      <th>4</th>\n",
       "      <td>5</td>\n",
       "      <td>08/16/2018 12:15:05</td>\n",
       "      <td>111.870</td>\n",
       "      <td>27.075</td>\n",
       "      <td>0.344</td>\n",
       "    </tr>\n",
       "  </tbody>\n",
       "</table>\n",
       "</div>"
      ],
      "text/plain": [
       "   0                    1        2       3      4\n",
       "0  1  08/16/2018 11:15:01  112.032  29.152  0.360\n",
       "1  2  08/16/2018 11:30:02  111.990  27.567  0.356\n",
       "2  3  08/16/2018 11:45:03  111.928  27.272  0.350\n",
       "3  4  08/16/2018 12:00:04  111.899  27.173  0.347\n",
       "4  5  08/16/2018 12:15:05  111.870  27.075  0.344"
      ]
     },
     "execution_count": 4,
     "metadata": {},
     "output_type": "execute_result"
    }
   ],
   "source": [
    "canal = pd.read_csv('sargento-canal.csv', header=None, skiprows=1)\n",
    "canal.head()"
   ]
  },
  {
   "cell_type": "code",
   "execution_count": 5,
   "metadata": {},
   "outputs": [
    {
     "data": {
      "text/html": [
       "<div>\n",
       "<style scoped>\n",
       "    .dataframe tbody tr th:only-of-type {\n",
       "        vertical-align: middle;\n",
       "    }\n",
       "\n",
       "    .dataframe tbody tr th {\n",
       "        vertical-align: top;\n",
       "    }\n",
       "\n",
       "    .dataframe thead th {\n",
       "        text-align: right;\n",
       "    }\n",
       "</style>\n",
       "<table border=\"1\" class=\"dataframe\">\n",
       "  <thead>\n",
       "    <tr style=\"text-align: right;\">\n",
       "      <th></th>\n",
       "      <th>0</th>\n",
       "      <th>1</th>\n",
       "      <th>2</th>\n",
       "      <th>3</th>\n",
       "      <th>4</th>\n",
       "      <th>5</th>\n",
       "      <th>6</th>\n",
       "    </tr>\n",
       "  </thead>\n",
       "  <tbody>\n",
       "    <tr>\n",
       "      <th>0</th>\n",
       "      <td>1</td>\n",
       "      <td>08/16/2018 12:45:00</td>\n",
       "      <td>33686</td>\n",
       "      <td>54525.5</td>\n",
       "      <td>28.54</td>\n",
       "      <td>50942.8</td>\n",
       "      <td>33.4310</td>\n",
       "    </tr>\n",
       "    <tr>\n",
       "      <th>1</th>\n",
       "      <td>2</td>\n",
       "      <td>08/16/2018 13:00:00</td>\n",
       "      <td>33686</td>\n",
       "      <td>54525.5</td>\n",
       "      <td>28.43</td>\n",
       "      <td>51048.0</td>\n",
       "      <td>33.5085</td>\n",
       "    </tr>\n",
       "    <tr>\n",
       "      <th>2</th>\n",
       "      <td>3</td>\n",
       "      <td>08/16/2018 13:15:00</td>\n",
       "      <td>33686</td>\n",
       "      <td>54525.5</td>\n",
       "      <td>28.35</td>\n",
       "      <td>51124.8</td>\n",
       "      <td>33.5651</td>\n",
       "    </tr>\n",
       "    <tr>\n",
       "      <th>3</th>\n",
       "      <td>4</td>\n",
       "      <td>08/16/2018 13:30:00</td>\n",
       "      <td>33686</td>\n",
       "      <td>54525.5</td>\n",
       "      <td>28.31</td>\n",
       "      <td>51163.3</td>\n",
       "      <td>33.5935</td>\n",
       "    </tr>\n",
       "    <tr>\n",
       "      <th>4</th>\n",
       "      <td>5</td>\n",
       "      <td>08/16/2018 13:45:00</td>\n",
       "      <td>33686</td>\n",
       "      <td>54525.5</td>\n",
       "      <td>28.28</td>\n",
       "      <td>51192.2</td>\n",
       "      <td>33.6148</td>\n",
       "    </tr>\n",
       "  </tbody>\n",
       "</table>\n",
       "</div>"
      ],
      "text/plain": [
       "   0                    1      2        3      4        5        6\n",
       "0  1  08/16/2018 12:45:00  33686  54525.5  28.54  50942.8  33.4310\n",
       "1  2  08/16/2018 13:00:00  33686  54525.5  28.43  51048.0  33.5085\n",
       "2  3  08/16/2018 13:15:00  33686  54525.5  28.35  51124.8  33.5651\n",
       "3  4  08/16/2018 13:30:00  33686  54525.5  28.31  51163.3  33.5935\n",
       "4  5  08/16/2018 13:45:00  33686  54525.5  28.28  51192.2  33.6148"
      ]
     },
     "execution_count": 5,
     "metadata": {},
     "output_type": "execute_result"
    }
   ],
   "source": [
    "salinidad=pd.read_csv('salinidad_080918.csv', header=None, skiprows=2)\n",
    "salinidad.head()"
   ]
  },
  {
   "cell_type": "markdown",
   "metadata": {},
   "source": [
    "# Trabajo de datos"
   ]
  },
  {
   "cell_type": "code",
   "execution_count": 6,
   "metadata": {},
   "outputs": [
    {
     "data": {
      "text/html": [
       "<div>\n",
       "<style scoped>\n",
       "    .dataframe tbody tr th:only-of-type {\n",
       "        vertical-align: middle;\n",
       "    }\n",
       "\n",
       "    .dataframe tbody tr th {\n",
       "        vertical-align: top;\n",
       "    }\n",
       "\n",
       "    .dataframe thead th {\n",
       "        text-align: right;\n",
       "    }\n",
       "</style>\n",
       "<table border=\"1\" class=\"dataframe\">\n",
       "  <thead>\n",
       "    <tr style=\"text-align: right;\">\n",
       "      <th></th>\n",
       "      <th>#</th>\n",
       "      <th>Fecha</th>\n",
       "      <th>Presion</th>\n",
       "      <th>Temp</th>\n",
       "      <th>Nivel</th>\n",
       "    </tr>\n",
       "  </thead>\n",
       "  <tbody>\n",
       "    <tr>\n",
       "      <th>0</th>\n",
       "      <td>1</td>\n",
       "      <td>08/16/2018 11:15:01</td>\n",
       "      <td>112.032</td>\n",
       "      <td>29.152</td>\n",
       "      <td>0.360</td>\n",
       "    </tr>\n",
       "    <tr>\n",
       "      <th>1</th>\n",
       "      <td>2</td>\n",
       "      <td>08/16/2018 11:30:02</td>\n",
       "      <td>111.990</td>\n",
       "      <td>27.567</td>\n",
       "      <td>0.356</td>\n",
       "    </tr>\n",
       "    <tr>\n",
       "      <th>2</th>\n",
       "      <td>3</td>\n",
       "      <td>08/16/2018 11:45:03</td>\n",
       "      <td>111.928</td>\n",
       "      <td>27.272</td>\n",
       "      <td>0.350</td>\n",
       "    </tr>\n",
       "    <tr>\n",
       "      <th>3</th>\n",
       "      <td>4</td>\n",
       "      <td>08/16/2018 12:00:04</td>\n",
       "      <td>111.899</td>\n",
       "      <td>27.173</td>\n",
       "      <td>0.347</td>\n",
       "    </tr>\n",
       "    <tr>\n",
       "      <th>4</th>\n",
       "      <td>5</td>\n",
       "      <td>08/16/2018 12:15:05</td>\n",
       "      <td>111.870</td>\n",
       "      <td>27.075</td>\n",
       "      <td>0.344</td>\n",
       "    </tr>\n",
       "  </tbody>\n",
       "</table>\n",
       "</div>"
      ],
      "text/plain": [
       "   #                Fecha  Presion    Temp  Nivel\n",
       "0  1  08/16/2018 11:15:01  112.032  29.152  0.360\n",
       "1  2  08/16/2018 11:30:02  111.990  27.567  0.356\n",
       "2  3  08/16/2018 11:45:03  111.928  27.272  0.350\n",
       "3  4  08/16/2018 12:00:04  111.899  27.173  0.347\n",
       "4  5  08/16/2018 12:15:05  111.870  27.075  0.344"
      ]
     },
     "execution_count": 6,
     "metadata": {},
     "output_type": "execute_result"
    }
   ],
   "source": [
    "canal.columns = ['#','Fecha','Presion','Temp','Nivel']\n",
    "canal.head()"
   ]
  },
  {
   "cell_type": "code",
   "execution_count": 7,
   "metadata": {},
   "outputs": [
    {
     "data": {
      "text/html": [
       "<div>\n",
       "<style scoped>\n",
       "    .dataframe tbody tr th:only-of-type {\n",
       "        vertical-align: middle;\n",
       "    }\n",
       "\n",
       "    .dataframe tbody tr th {\n",
       "        vertical-align: top;\n",
       "    }\n",
       "\n",
       "    .dataframe thead th {\n",
       "        text-align: right;\n",
       "    }\n",
       "</style>\n",
       "<table border=\"1\" class=\"dataframe\">\n",
       "  <thead>\n",
       "    <tr style=\"text-align: right;\">\n",
       "      <th></th>\n",
       "      <th>#</th>\n",
       "      <th>Fecha</th>\n",
       "      <th>Presion</th>\n",
       "      <th>Temp</th>\n",
       "      <th>Nivel</th>\n",
       "    </tr>\n",
       "  </thead>\n",
       "  <tbody>\n",
       "    <tr>\n",
       "      <th>0</th>\n",
       "      <td>1</td>\n",
       "      <td>08/16/2018 12:30:00</td>\n",
       "      <td>104.359</td>\n",
       "      <td>29.252</td>\n",
       "      <td>-0.340</td>\n",
       "    </tr>\n",
       "    <tr>\n",
       "      <th>1</th>\n",
       "      <td>2</td>\n",
       "      <td>08/16/2018 12:45:00</td>\n",
       "      <td>104.243</td>\n",
       "      <td>28.754</td>\n",
       "      <td>-0.351</td>\n",
       "    </tr>\n",
       "    <tr>\n",
       "      <th>2</th>\n",
       "      <td>3</td>\n",
       "      <td>08/16/2018 13:00:00</td>\n",
       "      <td>104.255</td>\n",
       "      <td>28.655</td>\n",
       "      <td>-0.350</td>\n",
       "    </tr>\n",
       "    <tr>\n",
       "      <th>3</th>\n",
       "      <td>4</td>\n",
       "      <td>08/16/2018 13:15:00</td>\n",
       "      <td>104.239</td>\n",
       "      <td>28.655</td>\n",
       "      <td>-0.352</td>\n",
       "    </tr>\n",
       "    <tr>\n",
       "      <th>4</th>\n",
       "      <td>5</td>\n",
       "      <td>08/16/2018 13:30:00</td>\n",
       "      <td>104.255</td>\n",
       "      <td>28.655</td>\n",
       "      <td>-0.350</td>\n",
       "    </tr>\n",
       "  </tbody>\n",
       "</table>\n",
       "</div>"
      ],
      "text/plain": [
       "   #                Fecha  Presion    Temp  Nivel\n",
       "0  1  08/16/2018 12:30:00  104.359  29.252 -0.340\n",
       "1  2  08/16/2018 12:45:00  104.243  28.754 -0.351\n",
       "2  3  08/16/2018 13:00:00  104.255  28.655 -0.350\n",
       "3  4  08/16/2018 13:15:00  104.239  28.655 -0.352\n",
       "4  5  08/16/2018 13:30:00  104.255  28.655 -0.350"
      ]
     },
     "execution_count": 7,
     "metadata": {},
     "output_type": "execute_result"
    }
   ],
   "source": [
    "old.columns = ['#','Fecha','Presion','Temp','Nivel']\n",
    "old.head()"
   ]
  },
  {
   "cell_type": "code",
   "execution_count": 8,
   "metadata": {},
   "outputs": [
    {
     "data": {
      "text/html": [
       "<div>\n",
       "<style scoped>\n",
       "    .dataframe tbody tr th:only-of-type {\n",
       "        vertical-align: middle;\n",
       "    }\n",
       "\n",
       "    .dataframe tbody tr th {\n",
       "        vertical-align: top;\n",
       "    }\n",
       "\n",
       "    .dataframe thead th {\n",
       "        text-align: right;\n",
       "    }\n",
       "</style>\n",
       "<table border=\"1\" class=\"dataframe\">\n",
       "  <thead>\n",
       "    <tr style=\"text-align: right;\">\n",
       "      <th></th>\n",
       "      <th>#</th>\n",
       "      <th>Fecha</th>\n",
       "      <th>Presion</th>\n",
       "      <th>Temp</th>\n",
       "      <th>Nivel</th>\n",
       "    </tr>\n",
       "  </thead>\n",
       "  <tbody>\n",
       "    <tr>\n",
       "      <th>0</th>\n",
       "      <td>1</td>\n",
       "      <td>08/16/2018 12:30:00</td>\n",
       "      <td>104.359</td>\n",
       "      <td>29.252</td>\n",
       "      <td>-0.340</td>\n",
       "    </tr>\n",
       "    <tr>\n",
       "      <th>1</th>\n",
       "      <td>2</td>\n",
       "      <td>08/16/2018 12:45:00</td>\n",
       "      <td>104.243</td>\n",
       "      <td>28.754</td>\n",
       "      <td>-0.351</td>\n",
       "    </tr>\n",
       "    <tr>\n",
       "      <th>2</th>\n",
       "      <td>3</td>\n",
       "      <td>08/16/2018 13:00:00</td>\n",
       "      <td>104.255</td>\n",
       "      <td>28.655</td>\n",
       "      <td>-0.350</td>\n",
       "    </tr>\n",
       "    <tr>\n",
       "      <th>3</th>\n",
       "      <td>4</td>\n",
       "      <td>08/16/2018 13:15:00</td>\n",
       "      <td>104.239</td>\n",
       "      <td>28.655</td>\n",
       "      <td>-0.352</td>\n",
       "    </tr>\n",
       "    <tr>\n",
       "      <th>4</th>\n",
       "      <td>5</td>\n",
       "      <td>08/16/2018 13:30:00</td>\n",
       "      <td>104.255</td>\n",
       "      <td>28.655</td>\n",
       "      <td>-0.350</td>\n",
       "    </tr>\n",
       "  </tbody>\n",
       "</table>\n",
       "</div>"
      ],
      "text/plain": [
       "   #                Fecha  Presion    Temp  Nivel\n",
       "0  1  08/16/2018 12:30:00  104.359  29.252 -0.340\n",
       "1  2  08/16/2018 12:45:00  104.243  28.754 -0.351\n",
       "2  3  08/16/2018 13:00:00  104.255  28.655 -0.350\n",
       "3  4  08/16/2018 13:15:00  104.239  28.655 -0.352\n",
       "4  5  08/16/2018 13:30:00  104.255  28.655 -0.350"
      ]
     },
     "execution_count": 8,
     "metadata": {},
     "output_type": "execute_result"
    }
   ],
   "source": [
    "salinidad.columns = ['#','Fecha','Presion','Temp','Nivel','conductancia especifica, s/cm,','sal, ppt',]\n",
    "old.head()"
   ]
  },
  {
   "cell_type": "markdown",
   "metadata": {},
   "source": []
  },
  {
   "cell_type": "markdown",
   "metadata": {},
   "source": []
  },
  {
   "cell_type": "markdown",
   "metadata": {},
   "source": [
    "# cambiar formato de fecha a tiempo"
   ]
  },
  {
   "cell_type": "code",
   "execution_count": 9,
   "metadata": {},
   "outputs": [
    {
     "data": {
      "text/plain": [
       "#                   int64\n",
       "Fecha      datetime64[ns]\n",
       "Presion           float64\n",
       "Temp              float64\n",
       "Nivel             float64\n",
       "dtype: object"
      ]
     },
     "execution_count": 9,
     "metadata": {},
     "output_type": "execute_result"
    }
   ],
   "source": [
    "canal['Fecha'] = pd.to_datetime(canal['Fecha'])\n",
    "canal.dtypes"
   ]
  },
  {
   "cell_type": "code",
   "execution_count": 10,
   "metadata": {},
   "outputs": [
    {
     "data": {
      "text/plain": [
       "#                   int64\n",
       "Fecha      datetime64[ns]\n",
       "Presion           float64\n",
       "Temp              float64\n",
       "Nivel             float64\n",
       "dtype: object"
      ]
     },
     "execution_count": 10,
     "metadata": {},
     "output_type": "execute_result"
    }
   ],
   "source": [
    "old['Fecha'] = pd.to_datetime(old['Fecha'])\n",
    "old.dtypes"
   ]
  },
  {
   "cell_type": "code",
   "execution_count": 11,
   "metadata": {},
   "outputs": [
    {
     "data": {
      "text/plain": [
       "#                                          int64\n",
       "Fecha                             datetime64[ns]\n",
       "Presion                                    int64\n",
       "Temp                                     float64\n",
       "Nivel                                    float64\n",
       "conductancia especifica, s/cm,           float64\n",
       "sal, ppt                                 float64\n",
       "dtype: object"
      ]
     },
     "execution_count": 11,
     "metadata": {},
     "output_type": "execute_result"
    }
   ],
   "source": [
    "salinidad['Fecha'] = pd.to_datetime(salinidad['Fecha'])\n",
    "salinidad.dtypes"
   ]
  },
  {
   "cell_type": "markdown",
   "metadata": {},
   "source": [
    "# Datos de la estacion, del canal y de la salinidad"
   ]
  },
  {
   "cell_type": "code",
   "execution_count": 12,
   "metadata": {},
   "outputs": [],
   "source": [
    "#un dia\n",
    "diacanal = canal[(canal['Fecha'] > '09/07/2018 00:04') &  (canal['Fecha'] < '09/07/2018 23:51')]\n",
    "\n",
    "diaold = old[(old['Fecha'] < '09/07/2018 23:45')& (old['Fecha'] > '09/07/2018 00:00')] \n",
    "\n",
    "diasal = salinidad[(salinidad['Fecha'] <'09/07/2018 23:45')&( salinidad['Fecha']>'09/07/2018 00:00')]"
   ]
  },
  {
   "cell_type": "code",
   "execution_count": 13,
   "metadata": {},
   "outputs": [
    {
     "data": {
      "text/html": [
       "<div>\n",
       "<style scoped>\n",
       "    .dataframe tbody tr th:only-of-type {\n",
       "        vertical-align: middle;\n",
       "    }\n",
       "\n",
       "    .dataframe tbody tr th {\n",
       "        vertical-align: top;\n",
       "    }\n",
       "\n",
       "    .dataframe thead th {\n",
       "        text-align: right;\n",
       "    }\n",
       "</style>\n",
       "<table border=\"1\" class=\"dataframe\">\n",
       "  <thead>\n",
       "    <tr style=\"text-align: right;\">\n",
       "      <th></th>\n",
       "      <th>#</th>\n",
       "      <th>Fecha</th>\n",
       "      <th>Presion</th>\n",
       "      <th>Temp</th>\n",
       "      <th>Nivel</th>\n",
       "    </tr>\n",
       "  </thead>\n",
       "  <tbody>\n",
       "    <tr>\n",
       "      <th>2066</th>\n",
       "      <td>2067</td>\n",
       "      <td>2018-09-07 00:19:00</td>\n",
       "      <td>119.499</td>\n",
       "      <td>27.173</td>\n",
       "      <td>1.103</td>\n",
       "    </tr>\n",
       "    <tr>\n",
       "      <th>2067</th>\n",
       "      <td>2068</td>\n",
       "      <td>2018-09-07 00:34:00</td>\n",
       "      <td>119.369</td>\n",
       "      <td>27.173</td>\n",
       "      <td>1.090</td>\n",
       "    </tr>\n",
       "    <tr>\n",
       "      <th>2068</th>\n",
       "      <td>2069</td>\n",
       "      <td>2018-09-07 00:49:00</td>\n",
       "      <td>119.083</td>\n",
       "      <td>27.173</td>\n",
       "      <td>1.062</td>\n",
       "    </tr>\n",
       "    <tr>\n",
       "      <th>2069</th>\n",
       "      <td>2070</td>\n",
       "      <td>2018-09-07 01:04:00</td>\n",
       "      <td>118.667</td>\n",
       "      <td>27.173</td>\n",
       "      <td>1.020</td>\n",
       "    </tr>\n",
       "    <tr>\n",
       "      <th>2070</th>\n",
       "      <td>2071</td>\n",
       "      <td>2018-09-07 01:19:00</td>\n",
       "      <td>118.160</td>\n",
       "      <td>27.173</td>\n",
       "      <td>0.970</td>\n",
       "    </tr>\n",
       "  </tbody>\n",
       "</table>\n",
       "</div>"
      ],
      "text/plain": [
       "         #               Fecha  Presion    Temp  Nivel\n",
       "2066  2067 2018-09-07 00:19:00  119.499  27.173  1.103\n",
       "2067  2068 2018-09-07 00:34:00  119.369  27.173  1.090\n",
       "2068  2069 2018-09-07 00:49:00  119.083  27.173  1.062\n",
       "2069  2070 2018-09-07 01:04:00  118.667  27.173  1.020\n",
       "2070  2071 2018-09-07 01:19:00  118.160  27.173  0.970"
      ]
     },
     "execution_count": 13,
     "metadata": {},
     "output_type": "execute_result"
    }
   ],
   "source": [
    "diacanal.head()"
   ]
  },
  {
   "cell_type": "code",
   "execution_count": 14,
   "metadata": {},
   "outputs": [
    {
     "data": {
      "text/plain": [
       "2063   2018-09-07 00:15:00\n",
       "2064   2018-09-07 00:30:00\n",
       "2065   2018-09-07 00:45:00\n",
       "2066   2018-09-07 01:00:00\n",
       "2067   2018-09-07 01:15:00\n",
       "Name: Fecha, dtype: datetime64[ns]"
      ]
     },
     "execution_count": 14,
     "metadata": {},
     "output_type": "execute_result"
    }
   ],
   "source": [
    "diaold['Fecha'].head()"
   ]
  },
  {
   "cell_type": "code",
   "execution_count": 15,
   "metadata": {},
   "outputs": [
    {
     "data": {
      "text/plain": [
       "2066   2018-09-07 00:19:00\n",
       "2067   2018-09-07 00:34:00\n",
       "2068   2018-09-07 00:49:00\n",
       "2069   2018-09-07 01:04:00\n",
       "2070   2018-09-07 01:19:00\n",
       "Name: Fecha, dtype: datetime64[ns]"
      ]
     },
     "execution_count": 15,
     "metadata": {},
     "output_type": "execute_result"
    }
   ],
   "source": [
    "diacanal['Fecha'].head()"
   ]
  },
  {
   "cell_type": "markdown",
   "metadata": {},
   "source": [
    "# gráfica de niveles de mar del sensor junto a la estación y el del canal"
   ]
  },
  {
   "cell_type": "code",
   "execution_count": 29,
   "metadata": {},
   "outputs": [],
   "source": [
    "#un dia\n",
    "import plotly.plotly as py\n",
    "import plotly.graph_objs as go\n",
    "\n",
    "trace1 = go.Scatter(\n",
    "    x=diaold['Fecha'],\n",
    "    y=diaold['Nivel'],\n",
    "    name='estacion',\n",
    ")\n",
    "trace2 = go.Scatter(\n",
    "    x=diaold['Fecha'],\n",
    "    y=diacanal['Nivel'],\n",
    "    name='canal',\n",
    "    yaxis='y2'\n",
    ")\n",
    "data = [trace1, trace2]\n",
    "layout = go.Layout(\n",
    "    title=' niveles de mar del sensor junto a la estación y el del canal de un dia',\n",
    "    yaxis=dict(\n",
    "        title='nivel del mar en la estacion'\n",
    "    ),\n",
    "    yaxis2=dict(\n",
    "        title='nivel del mar en el canal',\n",
    "        titlefont=dict(\n",
    "            color='rgb(148, 103, 189)'\n",
    "        ),\n",
    "        tickfont=dict(\n",
    "            color='rgb(148, 103, 189)'\n",
    "        ),\n",
    "        overlaying='y',\n",
    "        side='right'\n",
    "    )\n",
    ")\n",
    "fig = go.Figure(data=data, layout=layout)\n",
    "plot_url = py.plot(fig, filename='multiple-axes-double')"
   ]
  },
  {
   "cell_type": "markdown",
   "metadata": {},
   "source": [
    "# Gráfica de salinidad y nivel de mar del sensor junto a la estación. "
   ]
  },
  {
   "cell_type": "code",
   "execution_count": 22,
   "metadata": {},
   "outputs": [
    {
     "data": {
      "text/html": [
       "<div>\n",
       "<style scoped>\n",
       "    .dataframe tbody tr th:only-of-type {\n",
       "        vertical-align: middle;\n",
       "    }\n",
       "\n",
       "    .dataframe tbody tr th {\n",
       "        vertical-align: top;\n",
       "    }\n",
       "\n",
       "    .dataframe thead th {\n",
       "        text-align: right;\n",
       "    }\n",
       "</style>\n",
       "<table border=\"1\" class=\"dataframe\">\n",
       "  <thead>\n",
       "    <tr style=\"text-align: right;\">\n",
       "      <th></th>\n",
       "      <th>#</th>\n",
       "      <th>Fecha</th>\n",
       "      <th>Presion</th>\n",
       "      <th>Temp</th>\n",
       "      <th>Nivel</th>\n",
       "      <th>conductancia especifica, s/cm,</th>\n",
       "      <th>sal, ppt</th>\n",
       "    </tr>\n",
       "  </thead>\n",
       "  <tbody>\n",
       "    <tr>\n",
       "      <th>2062</th>\n",
       "      <td>2063</td>\n",
       "      <td>2018-09-07 00:15:00</td>\n",
       "      <td>33686</td>\n",
       "      <td>54525.5</td>\n",
       "      <td>28.27</td>\n",
       "      <td>51201.8</td>\n",
       "      <td>33.6219</td>\n",
       "    </tr>\n",
       "    <tr>\n",
       "      <th>2063</th>\n",
       "      <td>2064</td>\n",
       "      <td>2018-09-07 00:30:00</td>\n",
       "      <td>33686</td>\n",
       "      <td>54525.5</td>\n",
       "      <td>28.27</td>\n",
       "      <td>51201.8</td>\n",
       "      <td>33.6219</td>\n",
       "    </tr>\n",
       "    <tr>\n",
       "      <th>2064</th>\n",
       "      <td>2065</td>\n",
       "      <td>2018-09-07 00:45:00</td>\n",
       "      <td>33686</td>\n",
       "      <td>54525.5</td>\n",
       "      <td>28.27</td>\n",
       "      <td>51201.8</td>\n",
       "      <td>33.6219</td>\n",
       "    </tr>\n",
       "    <tr>\n",
       "      <th>2065</th>\n",
       "      <td>2066</td>\n",
       "      <td>2018-09-07 01:00:00</td>\n",
       "      <td>33686</td>\n",
       "      <td>54525.5</td>\n",
       "      <td>28.27</td>\n",
       "      <td>51201.8</td>\n",
       "      <td>33.6219</td>\n",
       "    </tr>\n",
       "    <tr>\n",
       "      <th>2066</th>\n",
       "      <td>2067</td>\n",
       "      <td>2018-09-07 01:15:00</td>\n",
       "      <td>33686</td>\n",
       "      <td>54525.5</td>\n",
       "      <td>28.28</td>\n",
       "      <td>51192.2</td>\n",
       "      <td>33.6148</td>\n",
       "    </tr>\n",
       "  </tbody>\n",
       "</table>\n",
       "</div>"
      ],
      "text/plain": [
       "         #               Fecha  Presion     Temp  Nivel  \\\n",
       "2062  2063 2018-09-07 00:15:00    33686  54525.5  28.27   \n",
       "2063  2064 2018-09-07 00:30:00    33686  54525.5  28.27   \n",
       "2064  2065 2018-09-07 00:45:00    33686  54525.5  28.27   \n",
       "2065  2066 2018-09-07 01:00:00    33686  54525.5  28.27   \n",
       "2066  2067 2018-09-07 01:15:00    33686  54525.5  28.28   \n",
       "\n",
       "      conductancia especifica, s/cm,  sal, ppt  \n",
       "2062                         51201.8   33.6219  \n",
       "2063                         51201.8   33.6219  \n",
       "2064                         51201.8   33.6219  \n",
       "2065                         51201.8   33.6219  \n",
       "2066                         51192.2   33.6148  "
      ]
     },
     "execution_count": 22,
     "metadata": {},
     "output_type": "execute_result"
    }
   ],
   "source": [
    "diasal.head()"
   ]
  },
  {
   "cell_type": "code",
   "execution_count": 30,
   "metadata": {},
   "outputs": [],
   "source": [
    "#un dia\n",
    "import plotly.plotly as py\n",
    "import plotly.graph_objs as go\n",
    "\n",
    "trace1 = go.Scatter(\n",
    "    x=diaold['Fecha'],\n",
    "    y=diaold['Nivel'],\n",
    "    name='nivel',\n",
    ")\n",
    "trace2 = go.Scatter(\n",
    "    x=diaold['Fecha'],\n",
    "    y=diasal['sal, ppt'],\n",
    "    name='salinidad',\n",
    "    yaxis='y2'\n",
    ")\n",
    "data = [trace1, trace2]\n",
    "layout = go.Layout(\n",
    "    title=' salinidad y nivel de mar del sensor en la estación de un dia',\n",
    "    yaxis=dict(\n",
    "        title='nivel'\n",
    "    ),\n",
    "    yaxis2=dict(\n",
    "        title='salinidad',\n",
    "        titlefont=dict(\n",
    "            color='rgb(148, 103, 189)'\n",
    "        ),\n",
    "        tickfont=dict(\n",
    "            color='rgb(148, 103, 189)'\n",
    "        ),\n",
    "        overlaying='y',\n",
    "        side='right'\n",
    "    )\n",
    ")\n",
    "fig = go.Figure(data=data, layout=layout)\n",
    "plot_url = py.plot(fig, filename='multiple-axes-double')"
   ]
  },
  {
   "cell_type": "markdown",
   "metadata": {},
   "source": [
    "# Gráfica de temperatura de agua entre el sensor junto a la estación y el del canal. "
   ]
  },
  {
   "cell_type": "code",
   "execution_count": 31,
   "metadata": {},
   "outputs": [],
   "source": [
    "#un dia\n",
    "import plotly.plotly as py\n",
    "import plotly.graph_objs as go\n",
    "\n",
    "trace1 = go.Scatter(\n",
    "    x=diaold['Fecha'],\n",
    "    y=diaold['Temp'],\n",
    "    name='estacion',\n",
    ")\n",
    "trace2 = go.Scatter(\n",
    "    x=diaold['Fecha'],\n",
    "    y=diacanal['Temp'],\n",
    "    name='canal',\n",
    "    yaxis='y2'\n",
    ")\n",
    "data = [trace1, trace2]\n",
    "layout = go.Layout(\n",
    "    title='Gráfica de temperatura de agua entre el sensor junto a la estación y el del canal de un ida',\n",
    "    yaxis=dict(\n",
    "        title='Temperatura en el sensor de la estacion'\n",
    "    ),\n",
    "    yaxis2=dict(\n",
    "        title='Temperatura en el sensor del canal',\n",
    "        titlefont=dict(\n",
    "            color='rgb(148, 103, 189)'\n",
    "        ),\n",
    "        tickfont=dict(\n",
    "            color='rgb(148, 103, 189)'\n",
    "        ),\n",
    "        overlaying='y',\n",
    "        side='right'\n",
    "    )\n",
    ")\n",
    "fig = go.Figure(data=data, layout=layout)\n",
    "plot_url = py.plot(fig, filename='multiple-axes-double')"
   ]
  },
  {
   "cell_type": "markdown",
   "metadata": {},
   "source": [
    "# correlación entre el nivel de agua y la salinidad: correlation matrix python heat map"
   ]
  },
  {
   "cell_type": "code",
   "execution_count": null,
   "metadata": {},
   "outputs": [],
   "source": [
    "import numpy as np\n",
    "\n",
    "np.random.seed(1)\n",
    "\n",
    "# 1000 random integers between 0 and 50\n",
    "x = np.random.randint(0, 50, 1000)\n",
    "\n",
    "# Positive Correlation with some noise\n",
    "y = x + np.random.normal(0, 10, 1000)\n",
    "\n",
    "np.corrcoef(x, y)"
   ]
  },
  {
   "cell_type": "code",
   "execution_count": null,
   "metadata": {},
   "outputs": [],
   "source": [
    "\n"
   ]
  },
  {
   "cell_type": "code",
   "execution_count": null,
   "metadata": {},
   "outputs": [],
   "source": []
  },
  {
   "cell_type": "code",
   "execution_count": null,
   "metadata": {},
   "outputs": [],
   "source": []
  }
 ],
 "metadata": {
  "kernelspec": {
   "display_name": "Python 3",
   "language": "python",
   "name": "python3"
  },
  "language_info": {
   "codemirror_mode": {
    "name": "ipython",
    "version": 3
   },
   "file_extension": ".py",
   "mimetype": "text/x-python",
   "name": "python",
   "nbconvert_exporter": "python",
   "pygments_lexer": "ipython3",
   "version": "3.6.5"
  }
 },
 "nbformat": 4,
 "nbformat_minor": 2
}
