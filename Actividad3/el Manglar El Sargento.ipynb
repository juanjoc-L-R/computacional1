{
 "cells": [
  {
   "cell_type": "code",
   "execution_count": 6,
   "metadata": {},
   "outputs": [],
   "source": [
    "import pandas as pd\n",
    "import numpy as np\n",
    "import matplotlib.pyplot as plt\n"
   ]
  },
  {
   "cell_type": "markdown",
   "metadata": {},
   "source": [
    "#importar datosd"
   ]
  },
  {
   "cell_type": "code",
   "execution_count": 7,
   "metadata": {},
   "outputs": [
    {
     "data": {
      "text/html": [
       "<div>\n",
       "<style scoped>\n",
       "    .dataframe tbody tr th:only-of-type {\n",
       "        vertical-align: middle;\n",
       "    }\n",
       "\n",
       "    .dataframe tbody tr th {\n",
       "        vertical-align: top;\n",
       "    }\n",
       "\n",
       "    .dataframe thead th {\n",
       "        text-align: right;\n",
       "    }\n",
       "</style>\n",
       "<table border=\"1\" class=\"dataframe\">\n",
       "  <thead>\n",
       "    <tr style=\"text-align: right;\">\n",
       "      <th></th>\n",
       "      <th>0</th>\n",
       "      <th>1</th>\n",
       "      <th>2</th>\n",
       "      <th>3</th>\n",
       "      <th>4</th>\n",
       "    </tr>\n",
       "  </thead>\n",
       "  <tbody>\n",
       "    <tr>\n",
       "      <th>0</th>\n",
       "      <td>1</td>\n",
       "      <td>08/16/2018 12:30:00</td>\n",
       "      <td>104.359</td>\n",
       "      <td>29.252</td>\n",
       "      <td>-0.340</td>\n",
       "    </tr>\n",
       "    <tr>\n",
       "      <th>1</th>\n",
       "      <td>2</td>\n",
       "      <td>08/16/2018 12:45:00</td>\n",
       "      <td>104.243</td>\n",
       "      <td>28.754</td>\n",
       "      <td>-0.351</td>\n",
       "    </tr>\n",
       "    <tr>\n",
       "      <th>2</th>\n",
       "      <td>3</td>\n",
       "      <td>08/16/2018 13:00:00</td>\n",
       "      <td>104.255</td>\n",
       "      <td>28.655</td>\n",
       "      <td>-0.350</td>\n",
       "    </tr>\n",
       "    <tr>\n",
       "      <th>3</th>\n",
       "      <td>4</td>\n",
       "      <td>08/16/2018 13:15:00</td>\n",
       "      <td>104.239</td>\n",
       "      <td>28.655</td>\n",
       "      <td>-0.352</td>\n",
       "    </tr>\n",
       "    <tr>\n",
       "      <th>4</th>\n",
       "      <td>5</td>\n",
       "      <td>08/16/2018 13:30:00</td>\n",
       "      <td>104.255</td>\n",
       "      <td>28.655</td>\n",
       "      <td>-0.350</td>\n",
       "    </tr>\n",
       "  </tbody>\n",
       "</table>\n",
       "</div>"
      ],
      "text/plain": [
       "   0                    1        2       3      4\n",
       "0  1  08/16/2018 12:30:00  104.359  29.252 -0.340\n",
       "1  2  08/16/2018 12:45:00  104.243  28.754 -0.351\n",
       "2  3  08/16/2018 13:00:00  104.255  28.655 -0.350\n",
       "3  4  08/16/2018 13:15:00  104.239  28.655 -0.352\n",
       "4  5  08/16/2018 13:30:00  104.255  28.655 -0.350"
      ]
     },
     "execution_count": 7,
     "metadata": {},
     "output_type": "execute_result"
    }
   ],
   "source": [
    "old = pd.read_csv('sargento-old-080918.csv', header=None, skiprows=2 )\n",
    "old.head()"
   ]
  },
  {
   "cell_type": "code",
   "execution_count": 8,
   "metadata": {},
   "outputs": [],
   "source": [
    "pd.read_csv?"
   ]
  },
  {
   "cell_type": "code",
   "execution_count": 9,
   "metadata": {},
   "outputs": [
    {
     "data": {
      "text/html": [
       "<div>\n",
       "<style scoped>\n",
       "    .dataframe tbody tr th:only-of-type {\n",
       "        vertical-align: middle;\n",
       "    }\n",
       "\n",
       "    .dataframe tbody tr th {\n",
       "        vertical-align: top;\n",
       "    }\n",
       "\n",
       "    .dataframe thead th {\n",
       "        text-align: right;\n",
       "    }\n",
       "</style>\n",
       "<table border=\"1\" class=\"dataframe\">\n",
       "  <thead>\n",
       "    <tr style=\"text-align: right;\">\n",
       "      <th></th>\n",
       "      <th>0</th>\n",
       "      <th>1</th>\n",
       "      <th>2</th>\n",
       "      <th>3</th>\n",
       "      <th>4</th>\n",
       "    </tr>\n",
       "  </thead>\n",
       "  <tbody>\n",
       "    <tr>\n",
       "      <th>0</th>\n",
       "      <td>1</td>\n",
       "      <td>08/16/2018 11:15:01</td>\n",
       "      <td>112.032</td>\n",
       "      <td>29.152</td>\n",
       "      <td>0.360</td>\n",
       "    </tr>\n",
       "    <tr>\n",
       "      <th>1</th>\n",
       "      <td>2</td>\n",
       "      <td>08/16/2018 11:30:02</td>\n",
       "      <td>111.990</td>\n",
       "      <td>27.567</td>\n",
       "      <td>0.356</td>\n",
       "    </tr>\n",
       "    <tr>\n",
       "      <th>2</th>\n",
       "      <td>3</td>\n",
       "      <td>08/16/2018 11:45:03</td>\n",
       "      <td>111.928</td>\n",
       "      <td>27.272</td>\n",
       "      <td>0.350</td>\n",
       "    </tr>\n",
       "    <tr>\n",
       "      <th>3</th>\n",
       "      <td>4</td>\n",
       "      <td>08/16/2018 12:00:04</td>\n",
       "      <td>111.899</td>\n",
       "      <td>27.173</td>\n",
       "      <td>0.347</td>\n",
       "    </tr>\n",
       "    <tr>\n",
       "      <th>4</th>\n",
       "      <td>5</td>\n",
       "      <td>08/16/2018 12:15:05</td>\n",
       "      <td>111.870</td>\n",
       "      <td>27.075</td>\n",
       "      <td>0.344</td>\n",
       "    </tr>\n",
       "  </tbody>\n",
       "</table>\n",
       "</div>"
      ],
      "text/plain": [
       "   0                    1        2       3      4\n",
       "0  1  08/16/2018 11:15:01  112.032  29.152  0.360\n",
       "1  2  08/16/2018 11:30:02  111.990  27.567  0.356\n",
       "2  3  08/16/2018 11:45:03  111.928  27.272  0.350\n",
       "3  4  08/16/2018 12:00:04  111.899  27.173  0.347\n",
       "4  5  08/16/2018 12:15:05  111.870  27.075  0.344"
      ]
     },
     "execution_count": 9,
     "metadata": {},
     "output_type": "execute_result"
    }
   ],
   "source": [
    "canal = pd.read_csv('sargento-canal.csv', header=None, skiprows=1)\n",
    "canal.head()"
   ]
  },
  {
   "cell_type": "code",
   "execution_count": 10,
   "metadata": {},
   "outputs": [
    {
     "data": {
      "text/html": [
       "<div>\n",
       "<style scoped>\n",
       "    .dataframe tbody tr th:only-of-type {\n",
       "        vertical-align: middle;\n",
       "    }\n",
       "\n",
       "    .dataframe tbody tr th {\n",
       "        vertical-align: top;\n",
       "    }\n",
       "\n",
       "    .dataframe thead th {\n",
       "        text-align: right;\n",
       "    }\n",
       "</style>\n",
       "<table border=\"1\" class=\"dataframe\">\n",
       "  <thead>\n",
       "    <tr style=\"text-align: right;\">\n",
       "      <th></th>\n",
       "      <th>0</th>\n",
       "      <th>1</th>\n",
       "      <th>2</th>\n",
       "      <th>3</th>\n",
       "      <th>4</th>\n",
       "      <th>5</th>\n",
       "      <th>6</th>\n",
       "    </tr>\n",
       "  </thead>\n",
       "  <tbody>\n",
       "    <tr>\n",
       "      <th>0</th>\n",
       "      <td>1</td>\n",
       "      <td>08/16/2018 12:45:00</td>\n",
       "      <td>33686</td>\n",
       "      <td>54525.5</td>\n",
       "      <td>28.54</td>\n",
       "      <td>50942.8</td>\n",
       "      <td>33.4310</td>\n",
       "    </tr>\n",
       "    <tr>\n",
       "      <th>1</th>\n",
       "      <td>2</td>\n",
       "      <td>08/16/2018 13:00:00</td>\n",
       "      <td>33686</td>\n",
       "      <td>54525.5</td>\n",
       "      <td>28.43</td>\n",
       "      <td>51048.0</td>\n",
       "      <td>33.5085</td>\n",
       "    </tr>\n",
       "    <tr>\n",
       "      <th>2</th>\n",
       "      <td>3</td>\n",
       "      <td>08/16/2018 13:15:00</td>\n",
       "      <td>33686</td>\n",
       "      <td>54525.5</td>\n",
       "      <td>28.35</td>\n",
       "      <td>51124.8</td>\n",
       "      <td>33.5651</td>\n",
       "    </tr>\n",
       "    <tr>\n",
       "      <th>3</th>\n",
       "      <td>4</td>\n",
       "      <td>08/16/2018 13:30:00</td>\n",
       "      <td>33686</td>\n",
       "      <td>54525.5</td>\n",
       "      <td>28.31</td>\n",
       "      <td>51163.3</td>\n",
       "      <td>33.5935</td>\n",
       "    </tr>\n",
       "    <tr>\n",
       "      <th>4</th>\n",
       "      <td>5</td>\n",
       "      <td>08/16/2018 13:45:00</td>\n",
       "      <td>33686</td>\n",
       "      <td>54525.5</td>\n",
       "      <td>28.28</td>\n",
       "      <td>51192.2</td>\n",
       "      <td>33.6148</td>\n",
       "    </tr>\n",
       "  </tbody>\n",
       "</table>\n",
       "</div>"
      ],
      "text/plain": [
       "   0                    1      2        3      4        5        6\n",
       "0  1  08/16/2018 12:45:00  33686  54525.5  28.54  50942.8  33.4310\n",
       "1  2  08/16/2018 13:00:00  33686  54525.5  28.43  51048.0  33.5085\n",
       "2  3  08/16/2018 13:15:00  33686  54525.5  28.35  51124.8  33.5651\n",
       "3  4  08/16/2018 13:30:00  33686  54525.5  28.31  51163.3  33.5935\n",
       "4  5  08/16/2018 13:45:00  33686  54525.5  28.28  51192.2  33.6148"
      ]
     },
     "execution_count": 10,
     "metadata": {},
     "output_type": "execute_result"
    }
   ],
   "source": [
    "salinidad=pd.read_csv('salinidad_080918.csv', header=None, skiprows=2)\n",
    "salinidad.head()"
   ]
  },
  {
   "cell_type": "code",
   "execution_count": 11,
   "metadata": {},
   "outputs": [],
   "source": [
    "#Trabajo de datos"
   ]
  },
  {
   "cell_type": "code",
   "execution_count": 15,
   "metadata": {},
   "outputs": [
    {
     "data": {
      "text/html": [
       "<div>\n",
       "<style scoped>\n",
       "    .dataframe tbody tr th:only-of-type {\n",
       "        vertical-align: middle;\n",
       "    }\n",
       "\n",
       "    .dataframe tbody tr th {\n",
       "        vertical-align: top;\n",
       "    }\n",
       "\n",
       "    .dataframe thead th {\n",
       "        text-align: right;\n",
       "    }\n",
       "</style>\n",
       "<table border=\"1\" class=\"dataframe\">\n",
       "  <thead>\n",
       "    <tr style=\"text-align: right;\">\n",
       "      <th></th>\n",
       "      <th>#</th>\n",
       "      <th>Fecha</th>\n",
       "      <th>Presion</th>\n",
       "      <th>Temp</th>\n",
       "      <th>Nivel</th>\n",
       "    </tr>\n",
       "  </thead>\n",
       "  <tbody>\n",
       "    <tr>\n",
       "      <th>0</th>\n",
       "      <td>1</td>\n",
       "      <td>08/16/2018 11:15:01</td>\n",
       "      <td>112.032</td>\n",
       "      <td>29.152</td>\n",
       "      <td>0.360</td>\n",
       "    </tr>\n",
       "    <tr>\n",
       "      <th>1</th>\n",
       "      <td>2</td>\n",
       "      <td>08/16/2018 11:30:02</td>\n",
       "      <td>111.990</td>\n",
       "      <td>27.567</td>\n",
       "      <td>0.356</td>\n",
       "    </tr>\n",
       "    <tr>\n",
       "      <th>2</th>\n",
       "      <td>3</td>\n",
       "      <td>08/16/2018 11:45:03</td>\n",
       "      <td>111.928</td>\n",
       "      <td>27.272</td>\n",
       "      <td>0.350</td>\n",
       "    </tr>\n",
       "    <tr>\n",
       "      <th>3</th>\n",
       "      <td>4</td>\n",
       "      <td>08/16/2018 12:00:04</td>\n",
       "      <td>111.899</td>\n",
       "      <td>27.173</td>\n",
       "      <td>0.347</td>\n",
       "    </tr>\n",
       "    <tr>\n",
       "      <th>4</th>\n",
       "      <td>5</td>\n",
       "      <td>08/16/2018 12:15:05</td>\n",
       "      <td>111.870</td>\n",
       "      <td>27.075</td>\n",
       "      <td>0.344</td>\n",
       "    </tr>\n",
       "  </tbody>\n",
       "</table>\n",
       "</div>"
      ],
      "text/plain": [
       "   #                Fecha  Presion    Temp  Nivel\n",
       "0  1  08/16/2018 11:15:01  112.032  29.152  0.360\n",
       "1  2  08/16/2018 11:30:02  111.990  27.567  0.356\n",
       "2  3  08/16/2018 11:45:03  111.928  27.272  0.350\n",
       "3  4  08/16/2018 12:00:04  111.899  27.173  0.347\n",
       "4  5  08/16/2018 12:15:05  111.870  27.075  0.344"
      ]
     },
     "execution_count": 15,
     "metadata": {},
     "output_type": "execute_result"
    }
   ],
   "source": [
    "canal.columns = ['#','Fecha','Presion','Temp','Nivel']\n",
    "canal.head()"
   ]
  },
  {
   "cell_type": "code",
   "execution_count": 18,
   "metadata": {},
   "outputs": [
    {
     "data": {
      "text/html": [
       "<div>\n",
       "<style scoped>\n",
       "    .dataframe tbody tr th:only-of-type {\n",
       "        vertical-align: middle;\n",
       "    }\n",
       "\n",
       "    .dataframe tbody tr th {\n",
       "        vertical-align: top;\n",
       "    }\n",
       "\n",
       "    .dataframe thead th {\n",
       "        text-align: right;\n",
       "    }\n",
       "</style>\n",
       "<table border=\"1\" class=\"dataframe\">\n",
       "  <thead>\n",
       "    <tr style=\"text-align: right;\">\n",
       "      <th></th>\n",
       "      <th>#</th>\n",
       "      <th>Fecha</th>\n",
       "      <th>Presion</th>\n",
       "      <th>Temp</th>\n",
       "      <th>Nivel</th>\n",
       "    </tr>\n",
       "  </thead>\n",
       "  <tbody>\n",
       "    <tr>\n",
       "      <th>0</th>\n",
       "      <td>1</td>\n",
       "      <td>08/16/2018 12:30:00</td>\n",
       "      <td>104.359</td>\n",
       "      <td>29.252</td>\n",
       "      <td>-0.340</td>\n",
       "    </tr>\n",
       "    <tr>\n",
       "      <th>1</th>\n",
       "      <td>2</td>\n",
       "      <td>08/16/2018 12:45:00</td>\n",
       "      <td>104.243</td>\n",
       "      <td>28.754</td>\n",
       "      <td>-0.351</td>\n",
       "    </tr>\n",
       "    <tr>\n",
       "      <th>2</th>\n",
       "      <td>3</td>\n",
       "      <td>08/16/2018 13:00:00</td>\n",
       "      <td>104.255</td>\n",
       "      <td>28.655</td>\n",
       "      <td>-0.350</td>\n",
       "    </tr>\n",
       "    <tr>\n",
       "      <th>3</th>\n",
       "      <td>4</td>\n",
       "      <td>08/16/2018 13:15:00</td>\n",
       "      <td>104.239</td>\n",
       "      <td>28.655</td>\n",
       "      <td>-0.352</td>\n",
       "    </tr>\n",
       "    <tr>\n",
       "      <th>4</th>\n",
       "      <td>5</td>\n",
       "      <td>08/16/2018 13:30:00</td>\n",
       "      <td>104.255</td>\n",
       "      <td>28.655</td>\n",
       "      <td>-0.350</td>\n",
       "    </tr>\n",
       "  </tbody>\n",
       "</table>\n",
       "</div>"
      ],
      "text/plain": [
       "   #                Fecha  Presion    Temp  Nivel\n",
       "0  1  08/16/2018 12:30:00  104.359  29.252 -0.340\n",
       "1  2  08/16/2018 12:45:00  104.243  28.754 -0.351\n",
       "2  3  08/16/2018 13:00:00  104.255  28.655 -0.350\n",
       "3  4  08/16/2018 13:15:00  104.239  28.655 -0.352\n",
       "4  5  08/16/2018 13:30:00  104.255  28.655 -0.350"
      ]
     },
     "execution_count": 18,
     "metadata": {},
     "output_type": "execute_result"
    }
   ],
   "source": [
    "old.columns = ['#','Fecha','Presion','Temp','Nivel']\n",
    "old.head()"
   ]
  },
  {
   "cell_type": "code",
   "execution_count": 19,
   "metadata": {},
   "outputs": [
    {
     "data": {
      "text/html": [
       "<div>\n",
       "<style scoped>\n",
       "    .dataframe tbody tr th:only-of-type {\n",
       "        vertical-align: middle;\n",
       "    }\n",
       "\n",
       "    .dataframe tbody tr th {\n",
       "        vertical-align: top;\n",
       "    }\n",
       "\n",
       "    .dataframe thead th {\n",
       "        text-align: right;\n",
       "    }\n",
       "</style>\n",
       "<table border=\"1\" class=\"dataframe\">\n",
       "  <thead>\n",
       "    <tr style=\"text-align: right;\">\n",
       "      <th></th>\n",
       "      <th>#</th>\n",
       "      <th>Fecha</th>\n",
       "      <th>Presion</th>\n",
       "      <th>Temp</th>\n",
       "      <th>Nivel</th>\n",
       "    </tr>\n",
       "  </thead>\n",
       "  <tbody>\n",
       "    <tr>\n",
       "      <th>0</th>\n",
       "      <td>1</td>\n",
       "      <td>08/16/2018 12:30:00</td>\n",
       "      <td>104.359</td>\n",
       "      <td>29.252</td>\n",
       "      <td>-0.340</td>\n",
       "    </tr>\n",
       "    <tr>\n",
       "      <th>1</th>\n",
       "      <td>2</td>\n",
       "      <td>08/16/2018 12:45:00</td>\n",
       "      <td>104.243</td>\n",
       "      <td>28.754</td>\n",
       "      <td>-0.351</td>\n",
       "    </tr>\n",
       "    <tr>\n",
       "      <th>2</th>\n",
       "      <td>3</td>\n",
       "      <td>08/16/2018 13:00:00</td>\n",
       "      <td>104.255</td>\n",
       "      <td>28.655</td>\n",
       "      <td>-0.350</td>\n",
       "    </tr>\n",
       "    <tr>\n",
       "      <th>3</th>\n",
       "      <td>4</td>\n",
       "      <td>08/16/2018 13:15:00</td>\n",
       "      <td>104.239</td>\n",
       "      <td>28.655</td>\n",
       "      <td>-0.352</td>\n",
       "    </tr>\n",
       "    <tr>\n",
       "      <th>4</th>\n",
       "      <td>5</td>\n",
       "      <td>08/16/2018 13:30:00</td>\n",
       "      <td>104.255</td>\n",
       "      <td>28.655</td>\n",
       "      <td>-0.350</td>\n",
       "    </tr>\n",
       "  </tbody>\n",
       "</table>\n",
       "</div>"
      ],
      "text/plain": [
       "   #                Fecha  Presion    Temp  Nivel\n",
       "0  1  08/16/2018 12:30:00  104.359  29.252 -0.340\n",
       "1  2  08/16/2018 12:45:00  104.243  28.754 -0.351\n",
       "2  3  08/16/2018 13:00:00  104.255  28.655 -0.350\n",
       "3  4  08/16/2018 13:15:00  104.239  28.655 -0.352\n",
       "4  5  08/16/2018 13:30:00  104.255  28.655 -0.350"
      ]
     },
     "execution_count": 19,
     "metadata": {},
     "output_type": "execute_result"
    }
   ],
   "source": [
    "salinidad.columns = ['#','Fecha','Presion','Temp','Nivel','conductancia especifica, s/cm,','salinidad, ppt',]\n",
    "old.head()"
   ]
  },
  {
   "cell_type": "code",
   "execution_count": null,
   "metadata": {},
   "outputs": [],
   "source": []
  },
  {
   "cell_type": "code",
   "execution_count": null,
   "metadata": {},
   "outputs": [],
   "source": []
  },
  {
   "cell_type": "markdown",
   "metadata": {},
   "source": []
  },
  {
   "cell_type": "raw",
   "metadata": {},
   "source": []
  },
  {
   "cell_type": "code",
   "execution_count": null,
   "metadata": {},
   "outputs": [],
   "source": []
  },
  {
   "cell_type": "markdown",
   "metadata": {},
   "source": []
  },
  {
   "cell_type": "code",
   "execution_count": 20,
   "metadata": {},
   "outputs": [],
   "source": [
    "#cambiar formato de fecha a tiempo"
   ]
  },
  {
   "cell_type": "code",
   "execution_count": 21,
   "metadata": {},
   "outputs": [
    {
     "data": {
      "text/plain": [
       "#                   int64\n",
       "Fecha      datetime64[ns]\n",
       "Presion           float64\n",
       "Temp              float64\n",
       "Nivel             float64\n",
       "dtype: object"
      ]
     },
     "execution_count": 21,
     "metadata": {},
     "output_type": "execute_result"
    }
   ],
   "source": [
    "canal['Fecha'] = pd.to_datetime(canal['Fecha'])\n",
    "canal.dtypes"
   ]
  },
  {
   "cell_type": "code",
   "execution_count": 22,
   "metadata": {},
   "outputs": [
    {
     "data": {
      "text/plain": [
       "#                   int64\n",
       "Fecha      datetime64[ns]\n",
       "Presion           float64\n",
       "Temp              float64\n",
       "Nivel             float64\n",
       "dtype: object"
      ]
     },
     "execution_count": 22,
     "metadata": {},
     "output_type": "execute_result"
    }
   ],
   "source": [
    "old['Fecha'] = pd.to_datetime(old['Fecha'])\n",
    "old.dtypes"
   ]
  },
  {
   "cell_type": "code",
   "execution_count": 23,
   "metadata": {},
   "outputs": [],
   "source": [
    "#grafica de un dia de nivel del mar de la estacion y del canal"
   ]
  },
  {
   "cell_type": "code",
   "execution_count": 28,
   "metadata": {},
   "outputs": [],
   "source": [
    "diacanal = canal[(canal['Fecha'] > '09/07/2018 00:04') &  (canal['Fecha'] < '09/07/2018 23:51')]\n",
    "\n",
    "diaold = old[(old['Fecha'] < '09/07/2018 23:45')& (old['Fecha'] > '09/07/2018 00:00')] "
   ]
  },
  {
   "cell_type": "code",
   "execution_count": 35,
   "metadata": {},
   "outputs": [
    {
     "data": {
      "text/html": [
       "<div>\n",
       "<style scoped>\n",
       "    .dataframe tbody tr th:only-of-type {\n",
       "        vertical-align: middle;\n",
       "    }\n",
       "\n",
       "    .dataframe tbody tr th {\n",
       "        vertical-align: top;\n",
       "    }\n",
       "\n",
       "    .dataframe thead th {\n",
       "        text-align: right;\n",
       "    }\n",
       "</style>\n",
       "<table border=\"1\" class=\"dataframe\">\n",
       "  <thead>\n",
       "    <tr style=\"text-align: right;\">\n",
       "      <th></th>\n",
       "      <th>#</th>\n",
       "      <th>Fecha</th>\n",
       "      <th>Presion</th>\n",
       "      <th>Temp</th>\n",
       "      <th>Nivel</th>\n",
       "    </tr>\n",
       "  </thead>\n",
       "  <tbody>\n",
       "    <tr>\n",
       "      <th>2066</th>\n",
       "      <td>2067</td>\n",
       "      <td>2018-09-07 00:19:00</td>\n",
       "      <td>119.499</td>\n",
       "      <td>27.173</td>\n",
       "      <td>1.103</td>\n",
       "    </tr>\n",
       "    <tr>\n",
       "      <th>2067</th>\n",
       "      <td>2068</td>\n",
       "      <td>2018-09-07 00:34:00</td>\n",
       "      <td>119.369</td>\n",
       "      <td>27.173</td>\n",
       "      <td>1.090</td>\n",
       "    </tr>\n",
       "    <tr>\n",
       "      <th>2068</th>\n",
       "      <td>2069</td>\n",
       "      <td>2018-09-07 00:49:00</td>\n",
       "      <td>119.083</td>\n",
       "      <td>27.173</td>\n",
       "      <td>1.062</td>\n",
       "    </tr>\n",
       "    <tr>\n",
       "      <th>2069</th>\n",
       "      <td>2070</td>\n",
       "      <td>2018-09-07 01:04:00</td>\n",
       "      <td>118.667</td>\n",
       "      <td>27.173</td>\n",
       "      <td>1.020</td>\n",
       "    </tr>\n",
       "    <tr>\n",
       "      <th>2070</th>\n",
       "      <td>2071</td>\n",
       "      <td>2018-09-07 01:19:00</td>\n",
       "      <td>118.160</td>\n",
       "      <td>27.173</td>\n",
       "      <td>0.970</td>\n",
       "    </tr>\n",
       "  </tbody>\n",
       "</table>\n",
       "</div>"
      ],
      "text/plain": [
       "         #               Fecha  Presion    Temp  Nivel\n",
       "2066  2067 2018-09-07 00:19:00  119.499  27.173  1.103\n",
       "2067  2068 2018-09-07 00:34:00  119.369  27.173  1.090\n",
       "2068  2069 2018-09-07 00:49:00  119.083  27.173  1.062\n",
       "2069  2070 2018-09-07 01:04:00  118.667  27.173  1.020\n",
       "2070  2071 2018-09-07 01:19:00  118.160  27.173  0.970"
      ]
     },
     "execution_count": 35,
     "metadata": {},
     "output_type": "execute_result"
    }
   ],
   "source": [
    "diacanal.head()"
   ]
  },
  {
   "cell_type": "code",
   "execution_count": 34,
   "metadata": {},
   "outputs": [
    {
     "data": {
      "text/html": [
       "<div>\n",
       "<style scoped>\n",
       "    .dataframe tbody tr th:only-of-type {\n",
       "        vertical-align: middle;\n",
       "    }\n",
       "\n",
       "    .dataframe tbody tr th {\n",
       "        vertical-align: top;\n",
       "    }\n",
       "\n",
       "    .dataframe thead th {\n",
       "        text-align: right;\n",
       "    }\n",
       "</style>\n",
       "<table border=\"1\" class=\"dataframe\">\n",
       "  <thead>\n",
       "    <tr style=\"text-align: right;\">\n",
       "      <th></th>\n",
       "      <th>#</th>\n",
       "      <th>Fecha</th>\n",
       "      <th>Presion</th>\n",
       "      <th>Temp</th>\n",
       "      <th>Nivel</th>\n",
       "    </tr>\n",
       "  </thead>\n",
       "  <tbody>\n",
       "    <tr>\n",
       "      <th>2063</th>\n",
       "      <td>2064</td>\n",
       "      <td>2018-09-07 00:15:00</td>\n",
       "      <td>108.610</td>\n",
       "      <td>28.258</td>\n",
       "      <td>0.083</td>\n",
       "    </tr>\n",
       "    <tr>\n",
       "      <th>2064</th>\n",
       "      <td>2065</td>\n",
       "      <td>2018-09-07 00:30:00</td>\n",
       "      <td>108.434</td>\n",
       "      <td>28.258</td>\n",
       "      <td>0.066</td>\n",
       "    </tr>\n",
       "    <tr>\n",
       "      <th>2065</th>\n",
       "      <td>2066</td>\n",
       "      <td>2018-09-07 00:45:00</td>\n",
       "      <td>108.049</td>\n",
       "      <td>28.258</td>\n",
       "      <td>0.027</td>\n",
       "    </tr>\n",
       "    <tr>\n",
       "      <th>2066</th>\n",
       "      <td>2067</td>\n",
       "      <td>2018-09-07 01:00:00</td>\n",
       "      <td>107.600</td>\n",
       "      <td>28.258</td>\n",
       "      <td>-0.017</td>\n",
       "    </tr>\n",
       "    <tr>\n",
       "      <th>2067</th>\n",
       "      <td>2068</td>\n",
       "      <td>2018-09-07 01:15:00</td>\n",
       "      <td>107.040</td>\n",
       "      <td>28.258</td>\n",
       "      <td>-0.073</td>\n",
       "    </tr>\n",
       "  </tbody>\n",
       "</table>\n",
       "</div>"
      ],
      "text/plain": [
       "         #               Fecha  Presion    Temp  Nivel\n",
       "2063  2064 2018-09-07 00:15:00  108.610  28.258  0.083\n",
       "2064  2065 2018-09-07 00:30:00  108.434  28.258  0.066\n",
       "2065  2066 2018-09-07 00:45:00  108.049  28.258  0.027\n",
       "2066  2067 2018-09-07 01:00:00  107.600  28.258 -0.017\n",
       "2067  2068 2018-09-07 01:15:00  107.040  28.258 -0.073"
      ]
     },
     "execution_count": 34,
     "metadata": {},
     "output_type": "execute_result"
    }
   ],
   "source": [
    "diaold.head()"
   ]
  },
  {
   "cell_type": "code",
   "execution_count": null,
   "metadata": {},
   "outputs": [],
   "source": [
    " # different times from the same timespan\n",
    "TA = map(diacanal['Fecha'])\n",
    "TB = map(lambda x: date2num(dt.datetime(2015, 6, 15, 12, 1, x)),\n",
    "         range(1, 20, 3))\n",
    "A = [1.2, 1.1, 0.8, 0.66]\n",
    "B = [1.3, 1.2, 0.7, 0.5, 0.45, 0.4, 0.3]\n",
    "\n",
    "fig, ax = plt.subplots()\n",
    "ax.plot_date(TA, A, 'b--')\n",
    "ax.plot_date(TB, B, 'g:')\n",
    "ax.xaxis.set_major_formatter(DateFormatter('%H:%M:%S'))\n",
    "plt.show()"
   ]
  },
  {
   "cell_type": "code",
   "execution_count": 29,
   "metadata": {},
   "outputs": [
    {
     "ename": "NameError",
     "evalue": "name 't' is not defined",
     "output_type": "error",
     "traceback": [
      "\u001b[1;31m---------------------------------------------------------------------------\u001b[0m",
      "\u001b[1;31mNameError\u001b[0m                                 Traceback (most recent call last)",
      "\u001b[1;32m<ipython-input-29-437be4d017bd>\u001b[0m in \u001b[0;36m<module>\u001b[1;34m()\u001b[0m\n\u001b[0;32m      9\u001b[0m \u001b[0max1\u001b[0m\u001b[1;33m.\u001b[0m\u001b[0mset_xlabel\u001b[0m\u001b[1;33m(\u001b[0m\u001b[1;34m'nivel canal'\u001b[0m\u001b[1;33m)\u001b[0m\u001b[1;33m\u001b[0m\u001b[0m\n\u001b[0;32m     10\u001b[0m \u001b[0max1\u001b[0m\u001b[1;33m.\u001b[0m\u001b[0mset_ylabel\u001b[0m\u001b[1;33m(\u001b[0m\u001b[1;34m'nivel estacion'\u001b[0m\u001b[1;33m,\u001b[0m \u001b[0mcolor\u001b[0m\u001b[1;33m=\u001b[0m\u001b[0mcolor\u001b[0m\u001b[1;33m)\u001b[0m\u001b[1;33m\u001b[0m\u001b[0m\n\u001b[1;32m---> 11\u001b[1;33m \u001b[0max1\u001b[0m\u001b[1;33m.\u001b[0m\u001b[0mplot\u001b[0m\u001b[1;33m(\u001b[0m\u001b[0mt\u001b[0m\u001b[1;33m,\u001b[0m \u001b[0mdata1\u001b[0m\u001b[1;33m,\u001b[0m \u001b[0mcolor\u001b[0m\u001b[1;33m=\u001b[0m\u001b[0mcolor\u001b[0m\u001b[1;33m)\u001b[0m\u001b[1;33m\u001b[0m\u001b[0m\n\u001b[0m\u001b[0;32m     12\u001b[0m \u001b[0max1\u001b[0m\u001b[1;33m.\u001b[0m\u001b[0mtick_params\u001b[0m\u001b[1;33m(\u001b[0m\u001b[0maxis\u001b[0m\u001b[1;33m=\u001b[0m\u001b[1;34m'y'\u001b[0m\u001b[1;33m,\u001b[0m \u001b[0mlabelcolor\u001b[0m\u001b[1;33m=\u001b[0m\u001b[0mcolor\u001b[0m\u001b[1;33m)\u001b[0m\u001b[1;33m\u001b[0m\u001b[0m\n\u001b[0;32m     13\u001b[0m \u001b[1;33m\u001b[0m\u001b[0m\n",
      "\u001b[1;31mNameError\u001b[0m: name 't' is not defined"
     ]
    },
    {
     "data": {
      "image/png": "[encoded data removed]",
      "text/plain": [
       "<Figure size 432x288 with 1 Axes>"
      ]
     },
     "metadata": {},
     "output_type": "display_data"
    }
   ],
   "source": [
    "#  niveles de mar del sensor junto a la estación y el del canal..... no sirvio para el proposito\n",
    "t= diacanal['Fecha']\n",
    "data1 = diacanal['Nivel']\n",
    "data2 = diaold['Nivel']\n",
    "\n",
    "fig, ax1 = plt.subplots()\n",
    "\n",
    "color = 'tab:red'\n",
    "ax1.set_xlabel('nivel canal')\n",
    "ax1.set_ylabel('nivel estacion', color=color)\n",
    "ax1.plot(t, data1, color=color)\n",
    "ax1.tick_params(axis='y', labelcolor=color)\n",
    "\n",
    "ax2 = ax1.twinx()  # instantiate a second axes that shares the same x-axis\n",
    "\n",
    "color = 'tab:blue'\n",
    "ax2.set_ylabel('nivel estacion', color=color)  # we already handled the x-label with ax1\n",
    "ax2.plot(t, data2, color=color)\n",
    "ax2.tick_params(axis='y', labelcolor=color)\n",
    "\n",
    "fig.tight_layout()  # otherwise the right y-label is slightly clipped\n",
    "plt.show()"
   ]
  },
  {
   "cell_type": "code",
   "execution_count": null,
   "metadata": {},
   "outputs": [],
   "source": []
  },
  {
   "cell_type": "code",
   "execution_count": null,
   "metadata": {},
   "outputs": [],
   "source": []
  },
  {
   "cell_type": "code",
   "execution_count": null,
   "metadata": {},
   "outputs": [],
   "source": []
  },
  {
   "cell_type": "code",
   "execution_count": null,
   "metadata": {},
   "outputs": [],
   "source": []
  },
  {
   "cell_type": "code",
   "execution_count": 6,
   "metadata": {},
   "outputs": [
    {
     "data": {
      "image/png": "[encoded data removed]",
      "text/plain": [
       "<Figure size 432x288 with 2 Axes>"
      ]
     },
     "metadata": {},
     "output_type": "display_data"
    }
   ],
   "source": [
    "# Create some mock data\n",
    "t = np.arange(0.01, 10.0, 0.01)\n",
    "data1 = np.exp(t)\n",
    "data2 = np.sin(2 * np.pi * t)\n",
    "\n",
    "fig, ax1 = plt.subplots()\n",
    "\n",
    "color = 'tab:red'\n",
    "ax1.set_xlabel('time (s)')\n",
    "ax1.set_ylabel('exp', color=color)\n",
    "ax1.plot(t, data1, color=color)\n",
    "ax1.tick_params(axis='y', labelcolor=color)\n",
    "\n",
    "ax2 = ax1.twinx()  # instantiate a second axes that shares the same x-axis\n",
    "\n",
    "color = 'tab:blue'\n",
    "ax2.set_ylabel('sin', color=color)  # we already handled the x-label with ax1\n",
    "ax2.plot(t, data2, color=color)\n",
    "ax2.tick_params(axis='y', labelcolor=color)\n",
    "\n",
    "fig.tight_layout()  # otherwise the right y-label is slightly clipped\n",
    "plt.show()"
   ]
  },
  {
   "cell_type": "code",
   "execution_count": null,
   "metadata": {},
   "outputs": [],
   "source": []
  },
  {
   "cell_type": "code",
   "execution_count": null,
   "metadata": {},
   "outputs": [],
   "source": []
  },
  {
   "cell_type": "code",
   "execution_count": null,
   "metadata": {},
   "outputs": [],
   "source": []
  }
 ],
 "metadata": {
  "kernelspec": {
   "display_name": "Python 3",
   "language": "python",
   "name": "python3"
  },
  "language_info": {
   "codemirror_mode": {
    "name": "ipython",
    "version": 3
   },
   "file_extension": ".py",
   "mimetype": "text/x-python",
   "name": "python",
   "nbconvert_exporter": "python",
   "pygments_lexer": "ipython3",
   "version": "3.6.5"
  }
 },
 "nbformat": 4,
 "nbformat_minor": 2
}
